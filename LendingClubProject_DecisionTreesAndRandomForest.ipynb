{
  "cells": [
    {
      "cell_type": "markdown",
      "metadata": {
        "id": "qGSdy1sCjZTQ"
      },
      "source": [
        "# LendingClub Project"
      ]
    },
    {
      "cell_type": "markdown",
      "source": [
        "![Peer-to-peer-lending-768x480.jpeg](data:image/jpeg;base64,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)\n",
        "\n",
        "For this project there will be explored publicly available data from [LendingClub.com](www.lendingclub.com). Lending Club connects people who need money (borrowers) with people who have money (investors). Hopefully, as an investor you would want to invest in people who showed a profile of having a high probability of paying you back. The goal is to create a model that will help predict this.\n",
        "\n",
        "There will be used lending data from 2007-2010, trying to classify and predict whether or not the borrower paid back their loan in full. Data can be downloaded from [here](https://www.lendingclub.com/info/download-data.action).\n",
        "\n",
        "Here are what the columns represent:\n",
        "* **credit.policy**: 1 if the customer meets the credit underwriting criteria of LendingClub.com, and 0 otherwise.\n",
        "* **purpose**: The purpose of the loan (takes values \"credit_card\", \"debt_consolidation\", \"educational\", \"major_purchase\", \"small_business\", and \"all_other\").\n",
        "* **int.rate**: The interest rate of the loan, as a proportion (a rate of 11% would be stored as 0.11). Borrowers judged by LendingClub.com to be more risky are assigned higher interest rates.\n",
        "* **installment**: The monthly installments owed by the borrower if the loan is funded.\n",
        "* **log.annual.inc**: The natural log of the self-reported annual income of the borrower.\n",
        "* **dti**: The debt-to-income ratio of the borrower (amount of debt divided by annual income).\n",
        "* **fico**: The FICO credit score of the borrower.\n",
        "* **days.with.cr.line**: The number of days the borrower has had a credit line.\n",
        "* **revol.bal**: The borrower's revolving balance (amount unpaid at the end of the credit card billing cycle).\n",
        "* **revol.util**: The borrower's revolving line utilization rate (the amount of the credit line used relative to total credit available).\n",
        "* **inq.last.6mths**: The borrower's number of inquiries by creditors in the last 6 months.\n",
        "* **delinq.2yrs**: The number of times the borrower had been 30+ days past due on a payment in the past 2 years.\n",
        "* **pub.rec**: The borrower's number of derogatory public records (bankruptcy filings, tax liens, or judgments)."
      ],
      "metadata": {
        "id": "XmmOGWrRJsnM"
      }
    },
    {
      "cell_type": "markdown",
      "metadata": {
        "id": "niVgg5nCjZTV"
      },
      "source": [
        "## Imports\n"
      ]
    },
    {
      "cell_type": "code",
      "execution_count": 20,
      "metadata": {
        "collapsed": true,
        "id": "p4xVyMHMjZTV"
      },
      "outputs": [],
      "source": [
        "import pandas as pd \n",
        "import numpy as np\n",
        "import seaborn as sbn\n",
        "import matplotlib.pyplot as plt"
      ]
    },
    {
      "cell_type": "markdown",
      "metadata": {
        "id": "aCxESeEZjZTW"
      },
      "source": [
        "### Getting the data"
      ]
    },
    {
      "cell_type": "code",
      "execution_count": 4,
      "metadata": {
        "collapsed": true,
        "id": "Ulv10c5zjZTX"
      },
      "outputs": [],
      "source": [
        "loans = pd.read_csv('loan_data.csv')"
      ]
    },
    {
      "cell_type": "code",
      "source": [
        "loans.info()"
      ],
      "metadata": {
        "colab": {
          "base_uri": "https://localhost:8080/"
        },
        "id": "zWc-Xe1GkOjI",
        "outputId": "4724d0e7-9c19-430c-f45d-3e98d358d1ab"
      },
      "execution_count": 5,
      "outputs": [
        {
          "output_type": "stream",
          "name": "stdout",
          "text": [
            "<class 'pandas.core.frame.DataFrame'>\n",
            "RangeIndex: 9578 entries, 0 to 9577\n",
            "Data columns (total 14 columns):\n",
            " #   Column             Non-Null Count  Dtype  \n",
            "---  ------             --------------  -----  \n",
            " 0   credit.policy      9578 non-null   int64  \n",
            " 1   purpose            9578 non-null   object \n",
            " 2   int.rate           9578 non-null   float64\n",
            " 3   installment        9578 non-null   float64\n",
            " 4   log.annual.inc     9578 non-null   float64\n",
            " 5   dti                9578 non-null   float64\n",
            " 6   fico               9578 non-null   int64  \n",
            " 7   days.with.cr.line  9578 non-null   float64\n",
            " 8   revol.bal          9578 non-null   int64  \n",
            " 9   revol.util         9578 non-null   float64\n",
            " 10  inq.last.6mths     9578 non-null   int64  \n",
            " 11  delinq.2yrs        9578 non-null   int64  \n",
            " 12  pub.rec            9578 non-null   int64  \n",
            " 13  not.fully.paid     9578 non-null   int64  \n",
            "dtypes: float64(6), int64(7), object(1)\n",
            "memory usage: 1.0+ MB\n"
          ]
        }
      ]
    },
    {
      "cell_type": "code",
      "execution_count": 6,
      "metadata": {
        "colab": {
          "base_uri": "https://localhost:8080/",
          "height": 364
        },
        "id": "4DVY3FiyjZTX",
        "outputId": "9aa5de2e-d183-4c8d-90f0-b3778f773b16"
      },
      "outputs": [
        {
          "output_type": "execute_result",
          "data": {
            "text/plain": [
              "       credit.policy     int.rate  installment  log.annual.inc          dti  \\\n",
              "count    9578.000000  9578.000000  9578.000000     9578.000000  9578.000000   \n",
              "mean        0.804970     0.122640   319.089413       10.932117    12.606679   \n",
              "std         0.396245     0.026847   207.071301        0.614813     6.883970   \n",
              "min         0.000000     0.060000    15.670000        7.547502     0.000000   \n",
              "25%         1.000000     0.103900   163.770000       10.558414     7.212500   \n",
              "50%         1.000000     0.122100   268.950000       10.928884    12.665000   \n",
              "75%         1.000000     0.140700   432.762500       11.291293    17.950000   \n",
              "max         1.000000     0.216400   940.140000       14.528354    29.960000   \n",
              "\n",
              "              fico  days.with.cr.line     revol.bal   revol.util  \\\n",
              "count  9578.000000        9578.000000  9.578000e+03  9578.000000   \n",
              "mean    710.846314        4560.767197  1.691396e+04    46.799236   \n",
              "std      37.970537        2496.930377  3.375619e+04    29.014417   \n",
              "min     612.000000         178.958333  0.000000e+00     0.000000   \n",
              "25%     682.000000        2820.000000  3.187000e+03    22.600000   \n",
              "50%     707.000000        4139.958333  8.596000e+03    46.300000   \n",
              "75%     737.000000        5730.000000  1.824950e+04    70.900000   \n",
              "max     827.000000       17639.958330  1.207359e+06   119.000000   \n",
              "\n",
              "       inq.last.6mths  delinq.2yrs      pub.rec  not.fully.paid  \n",
              "count     9578.000000  9578.000000  9578.000000     9578.000000  \n",
              "mean         1.577469     0.163708     0.062122        0.160054  \n",
              "std          2.200245     0.546215     0.262126        0.366676  \n",
              "min          0.000000     0.000000     0.000000        0.000000  \n",
              "25%          0.000000     0.000000     0.000000        0.000000  \n",
              "50%          1.000000     0.000000     0.000000        0.000000  \n",
              "75%          2.000000     0.000000     0.000000        0.000000  \n",
              "max         33.000000    13.000000     5.000000        1.000000  "
            ],
            "text/html": [
              "\n",
              "  <div id=\"df-11ee3f1b-85bb-4ffb-b691-49fa047d50a5\">\n",
              "    <div class=\"colab-df-container\">\n",
              "      <div>\n",
              "<style scoped>\n",
              "    .dataframe tbody tr th:only-of-type {\n",
              "        vertical-align: middle;\n",
              "    }\n",
              "\n",
              "    .dataframe tbody tr th {\n",
              "        vertical-align: top;\n",
              "    }\n",
              "\n",
              "    .dataframe thead th {\n",
              "        text-align: right;\n",
              "    }\n",
              "</style>\n",
              "<table border=\"1\" class=\"dataframe\">\n",
              "  <thead>\n",
              "    <tr style=\"text-align: right;\">\n",
              "      <th></th>\n",
              "      <th>credit.policy</th>\n",
              "      <th>int.rate</th>\n",
              "      <th>installment</th>\n",
              "      <th>log.annual.inc</th>\n",
              "      <th>dti</th>\n",
              "      <th>fico</th>\n",
              "      <th>days.with.cr.line</th>\n",
              "      <th>revol.bal</th>\n",
              "      <th>revol.util</th>\n",
              "      <th>inq.last.6mths</th>\n",
              "      <th>delinq.2yrs</th>\n",
              "      <th>pub.rec</th>\n",
              "      <th>not.fully.paid</th>\n",
              "    </tr>\n",
              "  </thead>\n",
              "  <tbody>\n",
              "    <tr>\n",
              "      <th>count</th>\n",
              "      <td>9578.000000</td>\n",
              "      <td>9578.000000</td>\n",
              "      <td>9578.000000</td>\n",
              "      <td>9578.000000</td>\n",
              "      <td>9578.000000</td>\n",
              "      <td>9578.000000</td>\n",
              "      <td>9578.000000</td>\n",
              "      <td>9.578000e+03</td>\n",
              "      <td>9578.000000</td>\n",
              "      <td>9578.000000</td>\n",
              "      <td>9578.000000</td>\n",
              "      <td>9578.000000</td>\n",
              "      <td>9578.000000</td>\n",
              "    </tr>\n",
              "    <tr>\n",
              "      <th>mean</th>\n",
              "      <td>0.804970</td>\n",
              "      <td>0.122640</td>\n",
              "      <td>319.089413</td>\n",
              "      <td>10.932117</td>\n",
              "      <td>12.606679</td>\n",
              "      <td>710.846314</td>\n",
              "      <td>4560.767197</td>\n",
              "      <td>1.691396e+04</td>\n",
              "      <td>46.799236</td>\n",
              "      <td>1.577469</td>\n",
              "      <td>0.163708</td>\n",
              "      <td>0.062122</td>\n",
              "      <td>0.160054</td>\n",
              "    </tr>\n",
              "    <tr>\n",
              "      <th>std</th>\n",
              "      <td>0.396245</td>\n",
              "      <td>0.026847</td>\n",
              "      <td>207.071301</td>\n",
              "      <td>0.614813</td>\n",
              "      <td>6.883970</td>\n",
              "      <td>37.970537</td>\n",
              "      <td>2496.930377</td>\n",
              "      <td>3.375619e+04</td>\n",
              "      <td>29.014417</td>\n",
              "      <td>2.200245</td>\n",
              "      <td>0.546215</td>\n",
              "      <td>0.262126</td>\n",
              "      <td>0.366676</td>\n",
              "    </tr>\n",
              "    <tr>\n",
              "      <th>min</th>\n",
              "      <td>0.000000</td>\n",
              "      <td>0.060000</td>\n",
              "      <td>15.670000</td>\n",
              "      <td>7.547502</td>\n",
              "      <td>0.000000</td>\n",
              "      <td>612.000000</td>\n",
              "      <td>178.958333</td>\n",
              "      <td>0.000000e+00</td>\n",
              "      <td>0.000000</td>\n",
              "      <td>0.000000</td>\n",
              "      <td>0.000000</td>\n",
              "      <td>0.000000</td>\n",
              "      <td>0.000000</td>\n",
              "    </tr>\n",
              "    <tr>\n",
              "      <th>25%</th>\n",
              "      <td>1.000000</td>\n",
              "      <td>0.103900</td>\n",
              "      <td>163.770000</td>\n",
              "      <td>10.558414</td>\n",
              "      <td>7.212500</td>\n",
              "      <td>682.000000</td>\n",
              "      <td>2820.000000</td>\n",
              "      <td>3.187000e+03</td>\n",
              "      <td>22.600000</td>\n",
              "      <td>0.000000</td>\n",
              "      <td>0.000000</td>\n",
              "      <td>0.000000</td>\n",
              "      <td>0.000000</td>\n",
              "    </tr>\n",
              "    <tr>\n",
              "      <th>50%</th>\n",
              "      <td>1.000000</td>\n",
              "      <td>0.122100</td>\n",
              "      <td>268.950000</td>\n",
              "      <td>10.928884</td>\n",
              "      <td>12.665000</td>\n",
              "      <td>707.000000</td>\n",
              "      <td>4139.958333</td>\n",
              "      <td>8.596000e+03</td>\n",
              "      <td>46.300000</td>\n",
              "      <td>1.000000</td>\n",
              "      <td>0.000000</td>\n",
              "      <td>0.000000</td>\n",
              "      <td>0.000000</td>\n",
              "    </tr>\n",
              "    <tr>\n",
              "      <th>75%</th>\n",
              "      <td>1.000000</td>\n",
              "      <td>0.140700</td>\n",
              "      <td>432.762500</td>\n",
              "      <td>11.291293</td>\n",
              "      <td>17.950000</td>\n",
              "      <td>737.000000</td>\n",
              "      <td>5730.000000</td>\n",
              "      <td>1.824950e+04</td>\n",
              "      <td>70.900000</td>\n",
              "      <td>2.000000</td>\n",
              "      <td>0.000000</td>\n",
              "      <td>0.000000</td>\n",
              "      <td>0.000000</td>\n",
              "    </tr>\n",
              "    <tr>\n",
              "      <th>max</th>\n",
              "      <td>1.000000</td>\n",
              "      <td>0.216400</td>\n",
              "      <td>940.140000</td>\n",
              "      <td>14.528354</td>\n",
              "      <td>29.960000</td>\n",
              "      <td>827.000000</td>\n",
              "      <td>17639.958330</td>\n",
              "      <td>1.207359e+06</td>\n",
              "      <td>119.000000</td>\n",
              "      <td>33.000000</td>\n",
              "      <td>13.000000</td>\n",
              "      <td>5.000000</td>\n",
              "      <td>1.000000</td>\n",
              "    </tr>\n",
              "  </tbody>\n",
              "</table>\n",
              "</div>\n",
              "      <button class=\"colab-df-convert\" onclick=\"convertToInteractive('df-11ee3f1b-85bb-4ffb-b691-49fa047d50a5')\"\n",
              "              title=\"Convert this dataframe to an interactive table.\"\n",
              "              style=\"display:none;\">\n",
              "        \n",
              "  <svg xmlns=\"http://www.w3.org/2000/svg\" height=\"24px\"viewBox=\"0 0 24 24\"\n",
              "       width=\"24px\">\n",
              "    <path d=\"M0 0h24v24H0V0z\" fill=\"none\"/>\n",
              "    <path d=\"M18.56 5.44l.94 2.06.94-2.06 2.06-.94-2.06-.94-.94-2.06-.94 2.06-2.06.94zm-11 1L8.5 8.5l.94-2.06 2.06-.94-2.06-.94L8.5 2.5l-.94 2.06-2.06.94zm10 10l.94 2.06.94-2.06 2.06-.94-2.06-.94-.94-2.06-.94 2.06-2.06.94z\"/><path d=\"M17.41 7.96l-1.37-1.37c-.4-.4-.92-.59-1.43-.59-.52 0-1.04.2-1.43.59L10.3 9.45l-7.72 7.72c-.78.78-.78 2.05 0 2.83L4 21.41c.39.39.9.59 1.41.59.51 0 1.02-.2 1.41-.59l7.78-7.78 2.81-2.81c.8-.78.8-2.07 0-2.86zM5.41 20L4 18.59l7.72-7.72 1.47 1.35L5.41 20z\"/>\n",
              "  </svg>\n",
              "      </button>\n",
              "      \n",
              "  <style>\n",
              "    .colab-df-container {\n",
              "      display:flex;\n",
              "      flex-wrap:wrap;\n",
              "      gap: 12px;\n",
              "    }\n",
              "\n",
              "    .colab-df-convert {\n",
              "      background-color: #E8F0FE;\n",
              "      border: none;\n",
              "      border-radius: 50%;\n",
              "      cursor: pointer;\n",
              "      display: none;\n",
              "      fill: #1967D2;\n",
              "      height: 32px;\n",
              "      padding: 0 0 0 0;\n",
              "      width: 32px;\n",
              "    }\n",
              "\n",
              "    .colab-df-convert:hover {\n",
              "      background-color: #E2EBFA;\n",
              "      box-shadow: 0px 1px 2px rgba(60, 64, 67, 0.3), 0px 1px 3px 1px rgba(60, 64, 67, 0.15);\n",
              "      fill: #174EA6;\n",
              "    }\n",
              "\n",
              "    [theme=dark] .colab-df-convert {\n",
              "      background-color: #3B4455;\n",
              "      fill: #D2E3FC;\n",
              "    }\n",
              "\n",
              "    [theme=dark] .colab-df-convert:hover {\n",
              "      background-color: #434B5C;\n",
              "      box-shadow: 0px 1px 3px 1px rgba(0, 0, 0, 0.15);\n",
              "      filter: drop-shadow(0px 1px 2px rgba(0, 0, 0, 0.3));\n",
              "      fill: #FFFFFF;\n",
              "    }\n",
              "  </style>\n",
              "\n",
              "      <script>\n",
              "        const buttonEl =\n",
              "          document.querySelector('#df-11ee3f1b-85bb-4ffb-b691-49fa047d50a5 button.colab-df-convert');\n",
              "        buttonEl.style.display =\n",
              "          google.colab.kernel.accessAllowed ? 'block' : 'none';\n",
              "\n",
              "        async function convertToInteractive(key) {\n",
              "          const element = document.querySelector('#df-11ee3f1b-85bb-4ffb-b691-49fa047d50a5');\n",
              "          const dataTable =\n",
              "            await google.colab.kernel.invokeFunction('convertToInteractive',\n",
              "                                                     [key], {});\n",
              "          if (!dataTable) return;\n",
              "\n",
              "          const docLinkHtml = 'Like what you see? Visit the ' +\n",
              "            '<a target=\"_blank\" href=https://colab.research.google.com/notebooks/data_table.ipynb>data table notebook</a>'\n",
              "            + ' to learn more about interactive tables.';\n",
              "          element.innerHTML = '';\n",
              "          dataTable['output_type'] = 'display_data';\n",
              "          await google.colab.output.renderOutput(dataTable, element);\n",
              "          const docLink = document.createElement('div');\n",
              "          docLink.innerHTML = docLinkHtml;\n",
              "          element.appendChild(docLink);\n",
              "        }\n",
              "      </script>\n",
              "    </div>\n",
              "  </div>\n",
              "  "
            ]
          },
          "metadata": {},
          "execution_count": 6
        }
      ],
      "source": [
        "loans.describe()"
      ]
    },
    {
      "cell_type": "code",
      "execution_count": 7,
      "metadata": {
        "colab": {
          "base_uri": "https://localhost:8080/",
          "height": 270
        },
        "id": "kpLRVv8tjZTY",
        "outputId": "14d60551-1cae-48bb-828c-90aea823a81c"
      },
      "outputs": [
        {
          "output_type": "execute_result",
          "data": {
            "text/plain": [
              "   credit.policy             purpose  int.rate  installment  log.annual.inc  \\\n",
              "0              1  debt_consolidation    0.1189       829.10       11.350407   \n",
              "1              1         credit_card    0.1071       228.22       11.082143   \n",
              "2              1  debt_consolidation    0.1357       366.86       10.373491   \n",
              "3              1  debt_consolidation    0.1008       162.34       11.350407   \n",
              "4              1         credit_card    0.1426       102.92       11.299732   \n",
              "\n",
              "     dti  fico  days.with.cr.line  revol.bal  revol.util  inq.last.6mths  \\\n",
              "0  19.48   737        5639.958333      28854        52.1               0   \n",
              "1  14.29   707        2760.000000      33623        76.7               0   \n",
              "2  11.63   682        4710.000000       3511        25.6               1   \n",
              "3   8.10   712        2699.958333      33667        73.2               1   \n",
              "4  14.97   667        4066.000000       4740        39.5               0   \n",
              "\n",
              "   delinq.2yrs  pub.rec  not.fully.paid  \n",
              "0            0        0               0  \n",
              "1            0        0               0  \n",
              "2            0        0               0  \n",
              "3            0        0               0  \n",
              "4            1        0               0  "
            ],
            "text/html": [
              "\n",
              "  <div id=\"df-c2b892e4-2883-4353-93fb-b36e977c00a2\">\n",
              "    <div class=\"colab-df-container\">\n",
              "      <div>\n",
              "<style scoped>\n",
              "    .dataframe tbody tr th:only-of-type {\n",
              "        vertical-align: middle;\n",
              "    }\n",
              "\n",
              "    .dataframe tbody tr th {\n",
              "        vertical-align: top;\n",
              "    }\n",
              "\n",
              "    .dataframe thead th {\n",
              "        text-align: right;\n",
              "    }\n",
              "</style>\n",
              "<table border=\"1\" class=\"dataframe\">\n",
              "  <thead>\n",
              "    <tr style=\"text-align: right;\">\n",
              "      <th></th>\n",
              "      <th>credit.policy</th>\n",
              "      <th>purpose</th>\n",
              "      <th>int.rate</th>\n",
              "      <th>installment</th>\n",
              "      <th>log.annual.inc</th>\n",
              "      <th>dti</th>\n",
              "      <th>fico</th>\n",
              "      <th>days.with.cr.line</th>\n",
              "      <th>revol.bal</th>\n",
              "      <th>revol.util</th>\n",
              "      <th>inq.last.6mths</th>\n",
              "      <th>delinq.2yrs</th>\n",
              "      <th>pub.rec</th>\n",
              "      <th>not.fully.paid</th>\n",
              "    </tr>\n",
              "  </thead>\n",
              "  <tbody>\n",
              "    <tr>\n",
              "      <th>0</th>\n",
              "      <td>1</td>\n",
              "      <td>debt_consolidation</td>\n",
              "      <td>0.1189</td>\n",
              "      <td>829.10</td>\n",
              "      <td>11.350407</td>\n",
              "      <td>19.48</td>\n",
              "      <td>737</td>\n",
              "      <td>5639.958333</td>\n",
              "      <td>28854</td>\n",
              "      <td>52.1</td>\n",
              "      <td>0</td>\n",
              "      <td>0</td>\n",
              "      <td>0</td>\n",
              "      <td>0</td>\n",
              "    </tr>\n",
              "    <tr>\n",
              "      <th>1</th>\n",
              "      <td>1</td>\n",
              "      <td>credit_card</td>\n",
              "      <td>0.1071</td>\n",
              "      <td>228.22</td>\n",
              "      <td>11.082143</td>\n",
              "      <td>14.29</td>\n",
              "      <td>707</td>\n",
              "      <td>2760.000000</td>\n",
              "      <td>33623</td>\n",
              "      <td>76.7</td>\n",
              "      <td>0</td>\n",
              "      <td>0</td>\n",
              "      <td>0</td>\n",
              "      <td>0</td>\n",
              "    </tr>\n",
              "    <tr>\n",
              "      <th>2</th>\n",
              "      <td>1</td>\n",
              "      <td>debt_consolidation</td>\n",
              "      <td>0.1357</td>\n",
              "      <td>366.86</td>\n",
              "      <td>10.373491</td>\n",
              "      <td>11.63</td>\n",
              "      <td>682</td>\n",
              "      <td>4710.000000</td>\n",
              "      <td>3511</td>\n",
              "      <td>25.6</td>\n",
              "      <td>1</td>\n",
              "      <td>0</td>\n",
              "      <td>0</td>\n",
              "      <td>0</td>\n",
              "    </tr>\n",
              "    <tr>\n",
              "      <th>3</th>\n",
              "      <td>1</td>\n",
              "      <td>debt_consolidation</td>\n",
              "      <td>0.1008</td>\n",
              "      <td>162.34</td>\n",
              "      <td>11.350407</td>\n",
              "      <td>8.10</td>\n",
              "      <td>712</td>\n",
              "      <td>2699.958333</td>\n",
              "      <td>33667</td>\n",
              "      <td>73.2</td>\n",
              "      <td>1</td>\n",
              "      <td>0</td>\n",
              "      <td>0</td>\n",
              "      <td>0</td>\n",
              "    </tr>\n",
              "    <tr>\n",
              "      <th>4</th>\n",
              "      <td>1</td>\n",
              "      <td>credit_card</td>\n",
              "      <td>0.1426</td>\n",
              "      <td>102.92</td>\n",
              "      <td>11.299732</td>\n",
              "      <td>14.97</td>\n",
              "      <td>667</td>\n",
              "      <td>4066.000000</td>\n",
              "      <td>4740</td>\n",
              "      <td>39.5</td>\n",
              "      <td>0</td>\n",
              "      <td>1</td>\n",
              "      <td>0</td>\n",
              "      <td>0</td>\n",
              "    </tr>\n",
              "  </tbody>\n",
              "</table>\n",
              "</div>\n",
              "      <button class=\"colab-df-convert\" onclick=\"convertToInteractive('df-c2b892e4-2883-4353-93fb-b36e977c00a2')\"\n",
              "              title=\"Convert this dataframe to an interactive table.\"\n",
              "              style=\"display:none;\">\n",
              "        \n",
              "  <svg xmlns=\"http://www.w3.org/2000/svg\" height=\"24px\"viewBox=\"0 0 24 24\"\n",
              "       width=\"24px\">\n",
              "    <path d=\"M0 0h24v24H0V0z\" fill=\"none\"/>\n",
              "    <path d=\"M18.56 5.44l.94 2.06.94-2.06 2.06-.94-2.06-.94-.94-2.06-.94 2.06-2.06.94zm-11 1L8.5 8.5l.94-2.06 2.06-.94-2.06-.94L8.5 2.5l-.94 2.06-2.06.94zm10 10l.94 2.06.94-2.06 2.06-.94-2.06-.94-.94-2.06-.94 2.06-2.06.94z\"/><path d=\"M17.41 7.96l-1.37-1.37c-.4-.4-.92-.59-1.43-.59-.52 0-1.04.2-1.43.59L10.3 9.45l-7.72 7.72c-.78.78-.78 2.05 0 2.83L4 21.41c.39.39.9.59 1.41.59.51 0 1.02-.2 1.41-.59l7.78-7.78 2.81-2.81c.8-.78.8-2.07 0-2.86zM5.41 20L4 18.59l7.72-7.72 1.47 1.35L5.41 20z\"/>\n",
              "  </svg>\n",
              "      </button>\n",
              "      \n",
              "  <style>\n",
              "    .colab-df-container {\n",
              "      display:flex;\n",
              "      flex-wrap:wrap;\n",
              "      gap: 12px;\n",
              "    }\n",
              "\n",
              "    .colab-df-convert {\n",
              "      background-color: #E8F0FE;\n",
              "      border: none;\n",
              "      border-radius: 50%;\n",
              "      cursor: pointer;\n",
              "      display: none;\n",
              "      fill: #1967D2;\n",
              "      height: 32px;\n",
              "      padding: 0 0 0 0;\n",
              "      width: 32px;\n",
              "    }\n",
              "\n",
              "    .colab-df-convert:hover {\n",
              "      background-color: #E2EBFA;\n",
              "      box-shadow: 0px 1px 2px rgba(60, 64, 67, 0.3), 0px 1px 3px 1px rgba(60, 64, 67, 0.15);\n",
              "      fill: #174EA6;\n",
              "    }\n",
              "\n",
              "    [theme=dark] .colab-df-convert {\n",
              "      background-color: #3B4455;\n",
              "      fill: #D2E3FC;\n",
              "    }\n",
              "\n",
              "    [theme=dark] .colab-df-convert:hover {\n",
              "      background-color: #434B5C;\n",
              "      box-shadow: 0px 1px 3px 1px rgba(0, 0, 0, 0.15);\n",
              "      filter: drop-shadow(0px 1px 2px rgba(0, 0, 0, 0.3));\n",
              "      fill: #FFFFFF;\n",
              "    }\n",
              "  </style>\n",
              "\n",
              "      <script>\n",
              "        const buttonEl =\n",
              "          document.querySelector('#df-c2b892e4-2883-4353-93fb-b36e977c00a2 button.colab-df-convert');\n",
              "        buttonEl.style.display =\n",
              "          google.colab.kernel.accessAllowed ? 'block' : 'none';\n",
              "\n",
              "        async function convertToInteractive(key) {\n",
              "          const element = document.querySelector('#df-c2b892e4-2883-4353-93fb-b36e977c00a2');\n",
              "          const dataTable =\n",
              "            await google.colab.kernel.invokeFunction('convertToInteractive',\n",
              "                                                     [key], {});\n",
              "          if (!dataTable) return;\n",
              "\n",
              "          const docLinkHtml = 'Like what you see? Visit the ' +\n",
              "            '<a target=\"_blank\" href=https://colab.research.google.com/notebooks/data_table.ipynb>data table notebook</a>'\n",
              "            + ' to learn more about interactive tables.';\n",
              "          element.innerHTML = '';\n",
              "          dataTable['output_type'] = 'display_data';\n",
              "          await google.colab.output.renderOutput(dataTable, element);\n",
              "          const docLink = document.createElement('div');\n",
              "          docLink.innerHTML = docLinkHtml;\n",
              "          element.appendChild(docLink);\n",
              "        }\n",
              "      </script>\n",
              "    </div>\n",
              "  </div>\n",
              "  "
            ]
          },
          "metadata": {},
          "execution_count": 7
        }
      ],
      "source": [
        "loans.head()"
      ]
    },
    {
      "cell_type": "markdown",
      "metadata": {
        "id": "WzniyUPyjZTZ"
      },
      "source": [
        "## Exploratory Data Analysis\n",
        "\n",
        "Let's do some data visualization! We'll use seaborn and pandas built-in plotting capabilities, but feel free to use whatever library you want. Don't worry about the colors matching, just worry about getting the main idea of the plot.\n",
        "\n",
        "** Create a histogram of two FICO distributions on top of each other, one for each credit.policy outcome.**\n",
        "\n"
      ]
    },
    {
      "cell_type": "code",
      "source": [
        "plt.figure(figsize= (10,6))\n",
        "loans[loans['credit.policy'] == 0]['fico'].hist(label = 'credit.policy = 0', bins = 30, alpha = 0.5)\n",
        "loans[loans['credit.policy'] == 1]['fico'].hist(label = 'credit.policy = 1',bins = 30, alpha = 0.5)\n",
        "plt.legend()"
      ],
      "metadata": {
        "colab": {
          "base_uri": "https://localhost:8080/",
          "height": 391
        },
        "id": "t6P6PGazk07g",
        "outputId": "2ae39338-f6e5-430a-996e-93da52a16145"
      },
      "execution_count": 54,
      "outputs": [
        {
          "output_type": "execute_result",
          "data": {
            "text/plain": [
              "<matplotlib.legend.Legend at 0x7f68be8147c0>"
            ]
          },
          "metadata": {},
          "execution_count": 54
        },
        {
          "output_type": "display_data",
          "data": {
            "text/plain": [
              "<Figure size 720x432 with 1 Axes>"
            ],
            "image/png": "[encoded data removed]"
          },
          "metadata": {
            "needs_background": "light"
          }
        }
      ]
    },
    {
      "cell_type": "code",
      "source": [
        "plt.figure(figsize= (10,6))\n",
        "loans[loans['not.fully.paid'] == 0]['fico'].hist(label = 'credit.policy = 0', bins = 30, alpha = 0.5, color = 'blue')\n",
        "loans[loans['not.fully.paid'] == 1]['fico'].hist(label = 'credit.policy = 1',bins = 30, alpha = 0.5, color = 'orange')\n",
        "plt.legend()\n"
      ],
      "metadata": {
        "colab": {
          "base_uri": "https://localhost:8080/",
          "height": 391
        },
        "id": "LEuJCUgDm1AN",
        "outputId": "9ea94817-3301-4ed3-d32e-ee6ea5477146"
      },
      "execution_count": 55,
      "outputs": [
        {
          "output_type": "execute_result",
          "data": {
            "text/plain": [
              "<matplotlib.legend.Legend at 0x7f68be1fc4f0>"
            ]
          },
          "metadata": {},
          "execution_count": 55
        },
        {
          "output_type": "display_data",
          "data": {
            "text/plain": [
              "<Figure size 720x432 with 1 Axes>"
            ],
            "image/png": "[encoded data removed]"
          },
          "metadata": {
            "needs_background": "light"
          }
        }
      ]
    },
    {
      "cell_type": "code",
      "source": [
        "plt.figure(figsize=(14,7))\n",
        "sbn.countplot(data = loans, x = 'purpose', hue = 'not.fully.paid')"
      ],
      "metadata": {
        "colab": {
          "base_uri": "https://localhost:8080/",
          "height": 462
        },
        "id": "kLqSwS_RoRWL",
        "outputId": "1f8e64e0-9288-4ab1-bd94-a11cf576ef1a"
      },
      "execution_count": 62,
      "outputs": [
        {
          "output_type": "execute_result",
          "data": {
            "text/plain": [
              "<matplotlib.axes._subplots.AxesSubplot at 0x7f68bd942ee0>"
            ]
          },
          "metadata": {},
          "execution_count": 62
        },
        {
          "output_type": "display_data",
          "data": {
            "text/plain": [
              "<Figure size 1008x504 with 1 Axes>"
            ],
            "image/png": "[encoded data removed]"
          },
          "metadata": {
            "needs_background": "light"
          }
        }
      ]
    },
    {
      "cell_type": "markdown",
      "metadata": {
        "id": "Gckk7RyBjZTa"
      },
      "source": [
        "Let's see the trend between FICO score and interest rate by means of a joointplot."
      ]
    },
    {
      "cell_type": "code",
      "source": [
        "sbn.jointplot(data = loans, x = \"fico\", y = 'int.rate')"
      ],
      "metadata": {
        "colab": {
          "base_uri": "https://localhost:8080/",
          "height": 458
        },
        "id": "vsiZmm72pXEX",
        "outputId": "0a7a6205-59c1-45a4-98f5-df408316a09f"
      },
      "execution_count": 63,
      "outputs": [
        {
          "output_type": "execute_result",
          "data": {
            "text/plain": [
              "<seaborn.axisgrid.JointGrid at 0x7f68bd942280>"
            ]
          },
          "metadata": {},
          "execution_count": 63
        },
        {
          "output_type": "display_data",
          "data": {
            "text/plain": [
              "<Figure size 432x432 with 3 Axes>"
            ],
            "image/png": "[encoded data removed]"
          },
          "metadata": {
            "needs_background": "light"
          }
        }
      ]
    },
    {
      "cell_type": "code",
      "execution_count": 77,
      "metadata": {
        "colab": {
          "base_uri": "https://localhost:8080/",
          "height": 386
        },
        "id": "8RVDQVwZjZTb",
        "outputId": "d4f23024-bd03-4172-e3bd-2e7513834b49"
      },
      "outputs": [
        {
          "output_type": "execute_result",
          "data": {
            "text/plain": [
              "<seaborn.axisgrid.FacetGrid at 0x7f68b9558250>"
            ]
          },
          "metadata": {},
          "execution_count": 77
        },
        {
          "output_type": "display_data",
          "data": {
            "text/plain": [
              "<Figure size 789.25x360 with 2 Axes>"
            ],
            "image/png": "[encoded data removed]"
          },
          "metadata": {
            "needs_background": "light"
          }
        }
      ],
      "source": [
        "sbn.lmplot(data = loans, x = 'fico', y = 'int.rate', hue = 'credit.policy', col = 'not.fully.paid')"
      ]
    },
    {
      "cell_type": "markdown",
      "metadata": {
        "id": "_qr1pa8ajZTb"
      },
      "source": [
        "## Converting Categorical Features"
      ]
    },
    {
      "cell_type": "code",
      "execution_count": 78,
      "metadata": {
        "colab": {
          "base_uri": "https://localhost:8080/"
        },
        "id": "bj_If28QjZTc",
        "outputId": "5c5d96d2-96aa-444d-cf66-3412ead44c5b"
      },
      "outputs": [
        {
          "output_type": "stream",
          "name": "stdout",
          "text": [
            "<class 'pandas.core.frame.DataFrame'>\n",
            "RangeIndex: 9578 entries, 0 to 9577\n",
            "Data columns (total 14 columns):\n",
            " #   Column             Non-Null Count  Dtype  \n",
            "---  ------             --------------  -----  \n",
            " 0   credit.policy      9578 non-null   int64  \n",
            " 1   purpose            9578 non-null   object \n",
            " 2   int.rate           9578 non-null   float64\n",
            " 3   installment        9578 non-null   float64\n",
            " 4   log.annual.inc     9578 non-null   float64\n",
            " 5   dti                9578 non-null   float64\n",
            " 6   fico               9578 non-null   int64  \n",
            " 7   days.with.cr.line  9578 non-null   float64\n",
            " 8   revol.bal          9578 non-null   int64  \n",
            " 9   revol.util         9578 non-null   float64\n",
            " 10  inq.last.6mths     9578 non-null   int64  \n",
            " 11  delinq.2yrs        9578 non-null   int64  \n",
            " 12  pub.rec            9578 non-null   int64  \n",
            " 13  not.fully.paid     9578 non-null   int64  \n",
            "dtypes: float64(6), int64(7), object(1)\n",
            "memory usage: 1.0+ MB\n"
          ]
        }
      ],
      "source": [
        "loans.info()"
      ]
    },
    {
      "cell_type": "markdown",
      "metadata": {
        "id": "5u5cCS-wjZTc"
      },
      "source": [
        "The **purpose** column is categorical it should be transformed using dummy variables.\n"
      ]
    },
    {
      "cell_type": "code",
      "execution_count": 83,
      "metadata": {
        "collapsed": true,
        "colab": {
          "base_uri": "https://localhost:8080/"
        },
        "id": "tzdxag-6jZTc",
        "outputId": "e7b5b674-91b0-4b45-e884-4ae1ee6b547a"
      },
      "outputs": [
        {
          "output_type": "execute_result",
          "data": {
            "text/plain": [
              "array(['debt_consolidation', 'credit_card', 'all_other',\n",
              "       'home_improvement', 'small_business', 'major_purchase',\n",
              "       'educational'], dtype=object)"
            ]
          },
          "metadata": {},
          "execution_count": 83
        }
      ],
      "source": [
        "pd.Series(loans['purpose']).unique()"
      ]
    },
    {
      "cell_type": "code",
      "source": [
        "cat_feats = pd.Series(loans['purpose'])\n",
        "cat_feats_dummy = pd.get_dummies(cat_feats, drop_first = True)"
      ],
      "metadata": {
        "id": "5m-5YDTKDYJW"
      },
      "execution_count": 93,
      "outputs": []
    },
    {
      "cell_type": "markdown",
      "metadata": {
        "id": "jahPI35FjZTd"
      },
      "source": [
        "Joining the *dummy variables* columns with the main dataframe (dropping first the categorical one)."
      ]
    },
    {
      "cell_type": "code",
      "execution_count": 96,
      "metadata": {
        "id": "4OauGRVljZTd"
      },
      "outputs": [],
      "source": [
        "final_data = pd.concat([loans.drop(['purpose'], axis = 1), cat_feats_dummy], axis = 1)"
      ]
    },
    {
      "cell_type": "code",
      "execution_count": 98,
      "metadata": {
        "colab": {
          "base_uri": "https://localhost:8080/",
          "height": 270
        },
        "id": "lSGIhnKujZTd",
        "outputId": "b9f4c338-d9bc-460e-8608-cb250e4bdab7"
      },
      "outputs": [
        {
          "output_type": "execute_result",
          "data": {
            "text/plain": [
              "   credit.policy  int.rate  installment  log.annual.inc    dti  fico  \\\n",
              "0              1    0.1189       829.10       11.350407  19.48   737   \n",
              "1              1    0.1071       228.22       11.082143  14.29   707   \n",
              "2              1    0.1357       366.86       10.373491  11.63   682   \n",
              "3              1    0.1008       162.34       11.350407   8.10   712   \n",
              "4              1    0.1426       102.92       11.299732  14.97   667   \n",
              "\n",
              "   days.with.cr.line  revol.bal  revol.util  inq.last.6mths  delinq.2yrs  \\\n",
              "0        5639.958333      28854        52.1               0            0   \n",
              "1        2760.000000      33623        76.7               0            0   \n",
              "2        4710.000000       3511        25.6               1            0   \n",
              "3        2699.958333      33667        73.2               1            0   \n",
              "4        4066.000000       4740        39.5               0            1   \n",
              "\n",
              "   pub.rec  not.fully.paid  credit_card  debt_consolidation  educational  \\\n",
              "0        0               0            0                   1            0   \n",
              "1        0               0            1                   0            0   \n",
              "2        0               0            0                   1            0   \n",
              "3        0               0            0                   1            0   \n",
              "4        0               0            1                   0            0   \n",
              "\n",
              "   home_improvement  major_purchase  small_business  \n",
              "0                 0               0               0  \n",
              "1                 0               0               0  \n",
              "2                 0               0               0  \n",
              "3                 0               0               0  \n",
              "4                 0               0               0  "
            ],
            "text/html": [
              "\n",
              "  <div id=\"df-ea530fb1-e7e5-4fd3-a13b-f41c19425f69\">\n",
              "    <div class=\"colab-df-container\">\n",
              "      <div>\n",
              "<style scoped>\n",
              "    .dataframe tbody tr th:only-of-type {\n",
              "        vertical-align: middle;\n",
              "    }\n",
              "\n",
              "    .dataframe tbody tr th {\n",
              "        vertical-align: top;\n",
              "    }\n",
              "\n",
              "    .dataframe thead th {\n",
              "        text-align: right;\n",
              "    }\n",
              "</style>\n",
              "<table border=\"1\" class=\"dataframe\">\n",
              "  <thead>\n",
              "    <tr style=\"text-align: right;\">\n",
              "      <th></th>\n",
              "      <th>credit.policy</th>\n",
              "      <th>int.rate</th>\n",
              "      <th>installment</th>\n",
              "      <th>log.annual.inc</th>\n",
              "      <th>dti</th>\n",
              "      <th>fico</th>\n",
              "      <th>days.with.cr.line</th>\n",
              "      <th>revol.bal</th>\n",
              "      <th>revol.util</th>\n",
              "      <th>inq.last.6mths</th>\n",
              "      <th>delinq.2yrs</th>\n",
              "      <th>pub.rec</th>\n",
              "      <th>not.fully.paid</th>\n",
              "      <th>credit_card</th>\n",
              "      <th>debt_consolidation</th>\n",
              "      <th>educational</th>\n",
              "      <th>home_improvement</th>\n",
              "      <th>major_purchase</th>\n",
              "      <th>small_business</th>\n",
              "    </tr>\n",
              "  </thead>\n",
              "  <tbody>\n",
              "    <tr>\n",
              "      <th>0</th>\n",
              "      <td>1</td>\n",
              "      <td>0.1189</td>\n",
              "      <td>829.10</td>\n",
              "      <td>11.350407</td>\n",
              "      <td>19.48</td>\n",
              "      <td>737</td>\n",
              "      <td>5639.958333</td>\n",
              "      <td>28854</td>\n",
              "      <td>52.1</td>\n",
              "      <td>0</td>\n",
              "      <td>0</td>\n",
              "      <td>0</td>\n",
              "      <td>0</td>\n",
              "      <td>0</td>\n",
              "      <td>1</td>\n",
              "      <td>0</td>\n",
              "      <td>0</td>\n",
              "      <td>0</td>\n",
              "      <td>0</td>\n",
              "    </tr>\n",
              "    <tr>\n",
              "      <th>1</th>\n",
              "      <td>1</td>\n",
              "      <td>0.1071</td>\n",
              "      <td>228.22</td>\n",
              "      <td>11.082143</td>\n",
              "      <td>14.29</td>\n",
              "      <td>707</td>\n",
              "      <td>2760.000000</td>\n",
              "      <td>33623</td>\n",
              "      <td>76.7</td>\n",
              "      <td>0</td>\n",
              "      <td>0</td>\n",
              "      <td>0</td>\n",
              "      <td>0</td>\n",
              "      <td>1</td>\n",
              "      <td>0</td>\n",
              "      <td>0</td>\n",
              "      <td>0</td>\n",
              "      <td>0</td>\n",
              "      <td>0</td>\n",
              "    </tr>\n",
              "    <tr>\n",
              "      <th>2</th>\n",
              "      <td>1</td>\n",
              "      <td>0.1357</td>\n",
              "      <td>366.86</td>\n",
              "      <td>10.373491</td>\n",
              "      <td>11.63</td>\n",
              "      <td>682</td>\n",
              "      <td>4710.000000</td>\n",
              "      <td>3511</td>\n",
              "      <td>25.6</td>\n",
              "      <td>1</td>\n",
              "      <td>0</td>\n",
              "      <td>0</td>\n",
              "      <td>0</td>\n",
              "      <td>0</td>\n",
              "      <td>1</td>\n",
              "      <td>0</td>\n",
              "      <td>0</td>\n",
              "      <td>0</td>\n",
              "      <td>0</td>\n",
              "    </tr>\n",
              "    <tr>\n",
              "      <th>3</th>\n",
              "      <td>1</td>\n",
              "      <td>0.1008</td>\n",
              "      <td>162.34</td>\n",
              "      <td>11.350407</td>\n",
              "      <td>8.10</td>\n",
              "      <td>712</td>\n",
              "      <td>2699.958333</td>\n",
              "      <td>33667</td>\n",
              "      <td>73.2</td>\n",
              "      <td>1</td>\n",
              "      <td>0</td>\n",
              "      <td>0</td>\n",
              "      <td>0</td>\n",
              "      <td>0</td>\n",
              "      <td>1</td>\n",
              "      <td>0</td>\n",
              "      <td>0</td>\n",
              "      <td>0</td>\n",
              "      <td>0</td>\n",
              "    </tr>\n",
              "    <tr>\n",
              "      <th>4</th>\n",
              "      <td>1</td>\n",
              "      <td>0.1426</td>\n",
              "      <td>102.92</td>\n",
              "      <td>11.299732</td>\n",
              "      <td>14.97</td>\n",
              "      <td>667</td>\n",
              "      <td>4066.000000</td>\n",
              "      <td>4740</td>\n",
              "      <td>39.5</td>\n",
              "      <td>0</td>\n",
              "      <td>1</td>\n",
              "      <td>0</td>\n",
              "      <td>0</td>\n",
              "      <td>1</td>\n",
              "      <td>0</td>\n",
              "      <td>0</td>\n",
              "      <td>0</td>\n",
              "      <td>0</td>\n",
              "      <td>0</td>\n",
              "    </tr>\n",
              "  </tbody>\n",
              "</table>\n",
              "</div>\n",
              "      <button class=\"colab-df-convert\" onclick=\"convertToInteractive('df-ea530fb1-e7e5-4fd3-a13b-f41c19425f69')\"\n",
              "              title=\"Convert this dataframe to an interactive table.\"\n",
              "              style=\"display:none;\">\n",
              "        \n",
              "  <svg xmlns=\"http://www.w3.org/2000/svg\" height=\"24px\"viewBox=\"0 0 24 24\"\n",
              "       width=\"24px\">\n",
              "    <path d=\"M0 0h24v24H0V0z\" fill=\"none\"/>\n",
              "    <path d=\"M18.56 5.44l.94 2.06.94-2.06 2.06-.94-2.06-.94-.94-2.06-.94 2.06-2.06.94zm-11 1L8.5 8.5l.94-2.06 2.06-.94-2.06-.94L8.5 2.5l-.94 2.06-2.06.94zm10 10l.94 2.06.94-2.06 2.06-.94-2.06-.94-.94-2.06-.94 2.06-2.06.94z\"/><path d=\"M17.41 7.96l-1.37-1.37c-.4-.4-.92-.59-1.43-.59-.52 0-1.04.2-1.43.59L10.3 9.45l-7.72 7.72c-.78.78-.78 2.05 0 2.83L4 21.41c.39.39.9.59 1.41.59.51 0 1.02-.2 1.41-.59l7.78-7.78 2.81-2.81c.8-.78.8-2.07 0-2.86zM5.41 20L4 18.59l7.72-7.72 1.47 1.35L5.41 20z\"/>\n",
              "  </svg>\n",
              "      </button>\n",
              "      \n",
              "  <style>\n",
              "    .colab-df-container {\n",
              "      display:flex;\n",
              "      flex-wrap:wrap;\n",
              "      gap: 12px;\n",
              "    }\n",
              "\n",
              "    .colab-df-convert {\n",
              "      background-color: #E8F0FE;\n",
              "      border: none;\n",
              "      border-radius: 50%;\n",
              "      cursor: pointer;\n",
              "      display: none;\n",
              "      fill: #1967D2;\n",
              "      height: 32px;\n",
              "      padding: 0 0 0 0;\n",
              "      width: 32px;\n",
              "    }\n",
              "\n",
              "    .colab-df-convert:hover {\n",
              "      background-color: #E2EBFA;\n",
              "      box-shadow: 0px 1px 2px rgba(60, 64, 67, 0.3), 0px 1px 3px 1px rgba(60, 64, 67, 0.15);\n",
              "      fill: #174EA6;\n",
              "    }\n",
              "\n",
              "    [theme=dark] .colab-df-convert {\n",
              "      background-color: #3B4455;\n",
              "      fill: #D2E3FC;\n",
              "    }\n",
              "\n",
              "    [theme=dark] .colab-df-convert:hover {\n",
              "      background-color: #434B5C;\n",
              "      box-shadow: 0px 1px 3px 1px rgba(0, 0, 0, 0.15);\n",
              "      filter: drop-shadow(0px 1px 2px rgba(0, 0, 0, 0.3));\n",
              "      fill: #FFFFFF;\n",
              "    }\n",
              "  </style>\n",
              "\n",
              "      <script>\n",
              "        const buttonEl =\n",
              "          document.querySelector('#df-ea530fb1-e7e5-4fd3-a13b-f41c19425f69 button.colab-df-convert');\n",
              "        buttonEl.style.display =\n",
              "          google.colab.kernel.accessAllowed ? 'block' : 'none';\n",
              "\n",
              "        async function convertToInteractive(key) {\n",
              "          const element = document.querySelector('#df-ea530fb1-e7e5-4fd3-a13b-f41c19425f69');\n",
              "          const dataTable =\n",
              "            await google.colab.kernel.invokeFunction('convertToInteractive',\n",
              "                                                     [key], {});\n",
              "          if (!dataTable) return;\n",
              "\n",
              "          const docLinkHtml = 'Like what you see? Visit the ' +\n",
              "            '<a target=\"_blank\" href=https://colab.research.google.com/notebooks/data_table.ipynb>data table notebook</a>'\n",
              "            + ' to learn more about interactive tables.';\n",
              "          element.innerHTML = '';\n",
              "          dataTable['output_type'] = 'display_data';\n",
              "          await google.colab.output.renderOutput(dataTable, element);\n",
              "          const docLink = document.createElement('div');\n",
              "          docLink.innerHTML = docLinkHtml;\n",
              "          element.appendChild(docLink);\n",
              "        }\n",
              "      </script>\n",
              "    </div>\n",
              "  </div>\n",
              "  "
            ]
          },
          "metadata": {},
          "execution_count": 98
        }
      ],
      "source": [
        "final_data.head()"
      ]
    },
    {
      "cell_type": "code",
      "source": [
        "final_data.info()"
      ],
      "metadata": {
        "colab": {
          "base_uri": "https://localhost:8080/"
        },
        "id": "j14QGB0qEwQf",
        "outputId": "040f0e84-6c49-40d7-bdd5-119b6b8d7068"
      },
      "execution_count": 99,
      "outputs": [
        {
          "output_type": "stream",
          "name": "stdout",
          "text": [
            "<class 'pandas.core.frame.DataFrame'>\n",
            "RangeIndex: 9578 entries, 0 to 9577\n",
            "Data columns (total 19 columns):\n",
            " #   Column              Non-Null Count  Dtype  \n",
            "---  ------              --------------  -----  \n",
            " 0   credit.policy       9578 non-null   int64  \n",
            " 1   int.rate            9578 non-null   float64\n",
            " 2   installment         9578 non-null   float64\n",
            " 3   log.annual.inc      9578 non-null   float64\n",
            " 4   dti                 9578 non-null   float64\n",
            " 5   fico                9578 non-null   int64  \n",
            " 6   days.with.cr.line   9578 non-null   float64\n",
            " 7   revol.bal           9578 non-null   int64  \n",
            " 8   revol.util          9578 non-null   float64\n",
            " 9   inq.last.6mths      9578 non-null   int64  \n",
            " 10  delinq.2yrs         9578 non-null   int64  \n",
            " 11  pub.rec             9578 non-null   int64  \n",
            " 12  not.fully.paid      9578 non-null   int64  \n",
            " 13  credit_card         9578 non-null   uint8  \n",
            " 14  debt_consolidation  9578 non-null   uint8  \n",
            " 15  educational         9578 non-null   uint8  \n",
            " 16  home_improvement    9578 non-null   uint8  \n",
            " 17  major_purchase      9578 non-null   uint8  \n",
            " 18  small_business      9578 non-null   uint8  \n",
            "dtypes: float64(6), int64(7), uint8(6)\n",
            "memory usage: 1.0 MB\n"
          ]
        }
      ]
    },
    {
      "cell_type": "markdown",
      "metadata": {
        "id": "s0Avx5sgjZTd"
      },
      "source": [
        "## Decision Tree Model"
      ]
    },
    {
      "cell_type": "code",
      "execution_count": 100,
      "metadata": {
        "collapsed": true,
        "id": "OmDvToWzjZTe"
      },
      "outputs": [],
      "source": [
        "from sklearn.model_selection import train_test_split"
      ]
    },
    {
      "cell_type": "code",
      "execution_count": 101,
      "metadata": {
        "collapsed": true,
        "id": "tzrVwNiijZTe"
      },
      "outputs": [],
      "source": [
        "X_train, X_test, y_train, y_test = train_test_split(final_data.drop(['not.fully.paid'], axis = 1), final_data['not.fully.paid'], test_size=0.3, random_state=101)"
      ]
    },
    {
      "cell_type": "code",
      "execution_count": 102,
      "metadata": {
        "collapsed": true,
        "id": "2GizUBUbjZTf"
      },
      "outputs": [],
      "source": [
        "from sklearn.tree import DecisionTreeClassifier"
      ]
    },
    {
      "cell_type": "code",
      "execution_count": 104,
      "metadata": {
        "collapsed": true,
        "id": "dLzrwqHEjZTg"
      },
      "outputs": [],
      "source": [
        "dtree = DecisionTreeClassifier()"
      ]
    },
    {
      "cell_type": "code",
      "execution_count": 105,
      "metadata": {
        "colab": {
          "base_uri": "https://localhost:8080/"
        },
        "id": "rwjQsa3IjZTg",
        "outputId": "86c8d87e-e460-4218-dca7-a75d787ea02e"
      },
      "outputs": [
        {
          "output_type": "execute_result",
          "data": {
            "text/plain": [
              "DecisionTreeClassifier()"
            ]
          },
          "metadata": {},
          "execution_count": 105
        }
      ],
      "source": [
        "dtree.fit(X_train, y_train)"
      ]
    },
    {
      "cell_type": "markdown",
      "metadata": {
        "id": "NB4DhD9LjZTg"
      },
      "source": [
        "### Predictions and Evaluation of Decision Tree\n"
      ]
    },
    {
      "cell_type": "code",
      "execution_count": 106,
      "metadata": {
        "collapsed": true,
        "id": "LidFTKZAjZTg"
      },
      "outputs": [],
      "source": [
        "y_pred = dtree.predict(X_test)"
      ]
    },
    {
      "cell_type": "code",
      "execution_count": 107,
      "metadata": {
        "collapsed": true,
        "id": "6ndHpUA4jZTh"
      },
      "outputs": [],
      "source": [
        "from sklearn.metrics import confusion_matrix\n",
        "from sklearn.metrics import classification_report"
      ]
    },
    {
      "cell_type": "code",
      "execution_count": 111,
      "metadata": {
        "colab": {
          "base_uri": "https://localhost:8080/"
        },
        "id": "3U2fYRYNjZTh",
        "outputId": "9b77b399-7f75-42fb-cafd-045c2d598a68"
      },
      "outputs": [
        {
          "output_type": "stream",
          "name": "stdout",
          "text": [
            "[[1988  443]\n",
            " [ 345   98]]\n",
            "\n",
            "\n",
            "              precision    recall  f1-score   support\n",
            "\n",
            "           0       0.85      0.82      0.83      2431\n",
            "           1       0.18      0.22      0.20       443\n",
            "\n",
            "    accuracy                           0.73      2874\n",
            "   macro avg       0.52      0.52      0.52      2874\n",
            "weighted avg       0.75      0.73      0.74      2874\n",
            "\n"
          ]
        }
      ],
      "source": [
        "print(confusion_matrix(y_test, y_pred))\n",
        "print('\\n')\n",
        "print(classification_report(y_test, y_pred))"
      ]
    },
    {
      "cell_type": "markdown",
      "metadata": {
        "id": "Aij_bjmRjZTh"
      },
      "source": [
        "## Random Forest model\n"
      ]
    },
    {
      "cell_type": "code",
      "execution_count": 114,
      "metadata": {
        "collapsed": true,
        "id": "WIfNmT32jZTh"
      },
      "outputs": [],
      "source": [
        "from sklearn.ensemble import RandomForestClassifier"
      ]
    },
    {
      "cell_type": "code",
      "execution_count": 122,
      "metadata": {
        "collapsed": true,
        "id": "iwgjTxQsjZTi"
      },
      "outputs": [],
      "source": [
        "rdmForest = RandomForestClassifier(n_estimators=300)"
      ]
    },
    {
      "cell_type": "code",
      "execution_count": 116,
      "metadata": {
        "colab": {
          "base_uri": "https://localhost:8080/"
        },
        "id": "h9t3uUO7jZTi",
        "outputId": "615ee0cf-7326-43e1-e6ef-1a79c4aed14b"
      },
      "outputs": [
        {
          "output_type": "execute_result",
          "data": {
            "text/plain": [
              "RandomForestClassifier()"
            ]
          },
          "metadata": {},
          "execution_count": 116
        }
      ],
      "source": [
        "rdmForest.fit(X_train, y_train)"
      ]
    },
    {
      "cell_type": "markdown",
      "metadata": {
        "id": "qN03lqbHjZTi"
      },
      "source": [
        "### Predictions and Evaluation of RandomTree Model\n",
        "\n"
      ]
    },
    {
      "cell_type": "code",
      "source": [
        "y_predForest =rdmForest.predict(X_test)"
      ],
      "metadata": {
        "id": "kT_bI1ahIWbe"
      },
      "execution_count": 117,
      "outputs": []
    },
    {
      "cell_type": "code",
      "execution_count": 121,
      "metadata": {
        "collapsed": true,
        "colab": {
          "base_uri": "https://localhost:8080/"
        },
        "id": "Wbm4gNmTjZTi",
        "outputId": "2dcdd7f5-33a5-40a6-f1df-c7c12123c9de"
      },
      "outputs": [
        {
          "output_type": "stream",
          "name": "stdout",
          "text": [
            "[[2422    9]\n",
            " [ 432   11]]\n",
            "\n",
            "\n",
            "              precision    recall  f1-score   support\n",
            "\n",
            "           0       0.85      1.00      0.92      2431\n",
            "           1       0.55      0.02      0.05       443\n",
            "\n",
            "    accuracy                           0.85      2874\n",
            "   macro avg       0.70      0.51      0.48      2874\n",
            "weighted avg       0.80      0.85      0.78      2874\n",
            "\n"
          ]
        }
      ],
      "source": [
        "print(confusion_matrix(y_test, y_predForest))\n",
        "print('\\n')\n",
        "print(classification_report(y_test, y_predForest))"
      ]
    },
    {
      "cell_type": "markdown",
      "metadata": {
        "collapsed": true,
        "id": "W_3_SCj-jZTj"
      },
      "source": [
        "## Conclusion"
      ]
    },
    {
      "cell_type": "markdown",
      "source": [
        "- For class 0, random tree works better since it has a better recall and F1 score.\n",
        "- For class 1, decision tree seems to work better except on precision.\n",
        "- It is not immediate to figure out which models is better, it depends on which metrics should be highlighted. \n"
      ],
      "metadata": {
        "id": "okG7W7HsRkM0"
      }
    },
    {
      "cell_type": "code",
      "source": [
        "print(classification_report(y_test, y_pred))\n",
        "print('/n')\n",
        "print(classification_report(y_test, y_predForest))"
      ],
      "metadata": {
        "colab": {
          "base_uri": "https://localhost:8080/"
        },
        "id": "peiLA4i8SZNT",
        "outputId": "25fcdcd8-6bef-497d-982f-d1214d78a21e"
      },
      "execution_count": 124,
      "outputs": [
        {
          "output_type": "stream",
          "name": "stdout",
          "text": [
            "              precision    recall  f1-score   support\n",
            "\n",
            "           0       0.85      0.82      0.83      2431\n",
            "           1       0.18      0.22      0.20       443\n",
            "\n",
            "    accuracy                           0.73      2874\n",
            "   macro avg       0.52      0.52      0.52      2874\n",
            "weighted avg       0.75      0.73      0.74      2874\n",
            "\n",
            "/n\n",
            "              precision    recall  f1-score   support\n",
            "\n",
            "           0       0.85      1.00      0.92      2431\n",
            "           1       0.55      0.02      0.05       443\n",
            "\n",
            "    accuracy                           0.85      2874\n",
            "   macro avg       0.70      0.51      0.48      2874\n",
            "weighted avg       0.80      0.85      0.78      2874\n",
            "\n"
          ]
        }
      ]
    }
  ],
  "metadata": {
    "kernelspec": {
      "display_name": "Python 3",
      "language": "python",
      "name": "python3"
    },
    "language_info": {
      "codemirror_mode": {
        "name": "ipython",
        "version": 3
      },
      "file_extension": ".py",
      "mimetype": "text/x-python",
      "name": "python",
      "nbconvert_exporter": "python",
      "pygments_lexer": "ipython3",
      "version": "3.5.1"
    },
    "colab": {
      "provenance": []
    }
  },
  "nbformat": 4,
  "nbformat_minor": 0
}