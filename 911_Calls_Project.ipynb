{
  "cells": [
    {
      "cell_type": "markdown",
      "metadata": {
        "id": "view-in-github",
        "colab_type": "text"
      },
      "source": [
        "<a href=\"https://colab.research.google.com/github/NickOLeeney/data-science-projects/blob/main/911_Calls_Project.ipynb\" target=\"_parent\"><img src=\"https://colab.research.google.com/assets/colab-badge.svg\" alt=\"Open In Colab\"/></a>"
      ]
    },
    {
      "cell_type": "markdown",
      "metadata": {
        "id": "nmMgtNBcPOii"
      },
      "source": [
        "# 911 Calls Project "
      ]
    },
    {
      "cell_type": "markdown",
      "metadata": {
        "id": "pL8tyJxGPOin"
      },
      "source": [
        "![911calls.jpg](data:image/jpeg;base64,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)\n",
        "\n",
        "\n",
        "In this project there will be analized some 911 calls data. The dataset was taken from [Kaggle](https://www.kaggle.com/mchirico/montcoalert) and it contains the following fields:\n",
        "\n",
        "* **lat** : Latitude, *String variable*\n",
        "* **lng**: Longitude, *String variable*\n",
        "* **desc**: Description of the Emergency Call, *String variable*\n",
        "* **zip**: Zipcode, *String variable*\n",
        "* **title**: Title, *String variable*\n",
        "* **timeStamp**: YYYY-MM-DD HH:MM:SS, *String variable*\n",
        "* **twp**: Township, *String variable*\n",
        "* **addr**: Address, *String variable*\n",
        "* **e**: Dummy variable (always 1)\n",
        "\n"
      ]
    },
    {
      "cell_type": "markdown",
      "metadata": {
        "id": "7vJVVcWzPOio"
      },
      "source": [
        "## Data and Setup"
      ]
    },
    {
      "cell_type": "markdown",
      "metadata": {
        "id": "KcrzWMJJPOip"
      },
      "source": [
        "____\n",
        "###Imports"
      ]
    },
    {
      "cell_type": "code",
      "execution_count": 80,
      "metadata": {
        "collapsed": true,
        "id": "JdtSoVW4POiq"
      },
      "outputs": [],
      "source": [
        "import numpy as np\n",
        "import pandas as pd\n",
        "import matplotlib.pyplot as plt\n",
        "import seaborn as sns\n",
        "%matplotlib inline"
      ]
    },
    {
      "cell_type": "markdown",
      "metadata": {
        "id": "2eExTtfhPOis"
      },
      "source": [
        "### Data Exploring"
      ]
    },
    {
      "cell_type": "code",
      "execution_count": 81,
      "metadata": {
        "collapsed": true,
        "id": "3SuDsjhRPOis"
      },
      "outputs": [],
      "source": [
        "df = pd.read_csv('911.csv')"
      ]
    },
    {
      "cell_type": "code",
      "execution_count": 82,
      "metadata": {
        "id": "J8SHvMhjPOit",
        "outputId": "7722fca1-30b1-4abc-f5da-418d52abd052",
        "colab": {
          "base_uri": "https://localhost:8080/"
        }
      },
      "outputs": [
        {
          "output_type": "stream",
          "name": "stdout",
          "text": [
            "<class 'pandas.core.frame.DataFrame'>\n",
            "RangeIndex: 99492 entries, 0 to 99491\n",
            "Data columns (total 9 columns):\n",
            " #   Column     Non-Null Count  Dtype  \n",
            "---  ------     --------------  -----  \n",
            " 0   lat        99492 non-null  float64\n",
            " 1   lng        99492 non-null  float64\n",
            " 2   desc       99492 non-null  object \n",
            " 3   zip        86637 non-null  float64\n",
            " 4   title      99492 non-null  object \n",
            " 5   timeStamp  99492 non-null  object \n",
            " 6   twp        99449 non-null  object \n",
            " 7   addr       98973 non-null  object \n",
            " 8   e          99492 non-null  int64  \n",
            "dtypes: float64(3), int64(1), object(5)\n",
            "memory usage: 6.8+ MB\n"
          ]
        }
      ],
      "source": [
        "df.info()"
      ]
    },
    {
      "cell_type": "code",
      "execution_count": 83,
      "metadata": {
        "id": "zmTMpEjePOiv",
        "outputId": "be3c0025-de00-4bbf-bed2-897f12ca7377",
        "colab": {
          "base_uri": "https://localhost:8080/",
          "height": 337
        }
      },
      "outputs": [
        {
          "output_type": "execute_result",
          "data": {
            "text/plain": [
              "         lat        lng                                               desc  \\\n",
              "0  40.297876 -75.581294  REINDEER CT & DEAD END;  NEW HANOVER; Station ...   \n",
              "1  40.258061 -75.264680  BRIAR PATH & WHITEMARSH LN;  HATFIELD TOWNSHIP...   \n",
              "2  40.121182 -75.351975  HAWS AVE; NORRISTOWN; 2015-12-10 @ 14:39:21-St...   \n",
              "3  40.116153 -75.343513  AIRY ST & SWEDE ST;  NORRISTOWN; Station 308A;...   \n",
              "4  40.251492 -75.603350  CHERRYWOOD CT & DEAD END;  LOWER POTTSGROVE; S...   \n",
              "\n",
              "       zip                    title            timeStamp                twp  \\\n",
              "0  19525.0   EMS: BACK PAINS/INJURY  2015-12-10 17:40:00        NEW HANOVER   \n",
              "1  19446.0  EMS: DIABETIC EMERGENCY  2015-12-10 17:40:00  HATFIELD TOWNSHIP   \n",
              "2  19401.0      Fire: GAS-ODOR/LEAK  2015-12-10 17:40:00         NORRISTOWN   \n",
              "3  19401.0   EMS: CARDIAC EMERGENCY  2015-12-10 17:40:01         NORRISTOWN   \n",
              "4      NaN           EMS: DIZZINESS  2015-12-10 17:40:01   LOWER POTTSGROVE   \n",
              "\n",
              "                         addr  e  \n",
              "0      REINDEER CT & DEAD END  1  \n",
              "1  BRIAR PATH & WHITEMARSH LN  1  \n",
              "2                    HAWS AVE  1  \n",
              "3          AIRY ST & SWEDE ST  1  \n",
              "4    CHERRYWOOD CT & DEAD END  1  "
            ],
            "text/html": [
              "\n",
              "  <div id=\"df-3db3c69b-05c5-455b-83cb-5194c36fec1e\">\n",
              "    <div class=\"colab-df-container\">\n",
              "      <div>\n",
              "<style scoped>\n",
              "    .dataframe tbody tr th:only-of-type {\n",
              "        vertical-align: middle;\n",
              "    }\n",
              "\n",
              "    .dataframe tbody tr th {\n",
              "        vertical-align: top;\n",
              "    }\n",
              "\n",
              "    .dataframe thead th {\n",
              "        text-align: right;\n",
              "    }\n",
              "</style>\n",
              "<table border=\"1\" class=\"dataframe\">\n",
              "  <thead>\n",
              "    <tr style=\"text-align: right;\">\n",
              "      <th></th>\n",
              "      <th>lat</th>\n",
              "      <th>lng</th>\n",
              "      <th>desc</th>\n",
              "      <th>zip</th>\n",
              "      <th>title</th>\n",
              "      <th>timeStamp</th>\n",
              "      <th>twp</th>\n",
              "      <th>addr</th>\n",
              "      <th>e</th>\n",
              "    </tr>\n",
              "  </thead>\n",
              "  <tbody>\n",
              "    <tr>\n",
              "      <th>0</th>\n",
              "      <td>40.297876</td>\n",
              "      <td>-75.581294</td>\n",
              "      <td>REINDEER CT &amp; DEAD END;  NEW HANOVER; Station ...</td>\n",
              "      <td>19525.0</td>\n",
              "      <td>EMS: BACK PAINS/INJURY</td>\n",
              "      <td>2015-12-10 17:40:00</td>\n",
              "      <td>NEW HANOVER</td>\n",
              "      <td>REINDEER CT &amp; DEAD END</td>\n",
              "      <td>1</td>\n",
              "    </tr>\n",
              "    <tr>\n",
              "      <th>1</th>\n",
              "      <td>40.258061</td>\n",
              "      <td>-75.264680</td>\n",
              "      <td>BRIAR PATH &amp; WHITEMARSH LN;  HATFIELD TOWNSHIP...</td>\n",
              "      <td>19446.0</td>\n",
              "      <td>EMS: DIABETIC EMERGENCY</td>\n",
              "      <td>2015-12-10 17:40:00</td>\n",
              "      <td>HATFIELD TOWNSHIP</td>\n",
              "      <td>BRIAR PATH &amp; WHITEMARSH LN</td>\n",
              "      <td>1</td>\n",
              "    </tr>\n",
              "    <tr>\n",
              "      <th>2</th>\n",
              "      <td>40.121182</td>\n",
              "      <td>-75.351975</td>\n",
              "      <td>HAWS AVE; NORRISTOWN; 2015-12-10 @ 14:39:21-St...</td>\n",
              "      <td>19401.0</td>\n",
              "      <td>Fire: GAS-ODOR/LEAK</td>\n",
              "      <td>2015-12-10 17:40:00</td>\n",
              "      <td>NORRISTOWN</td>\n",
              "      <td>HAWS AVE</td>\n",
              "      <td>1</td>\n",
              "    </tr>\n",
              "    <tr>\n",
              "      <th>3</th>\n",
              "      <td>40.116153</td>\n",
              "      <td>-75.343513</td>\n",
              "      <td>AIRY ST &amp; SWEDE ST;  NORRISTOWN; Station 308A;...</td>\n",
              "      <td>19401.0</td>\n",
              "      <td>EMS: CARDIAC EMERGENCY</td>\n",
              "      <td>2015-12-10 17:40:01</td>\n",
              "      <td>NORRISTOWN</td>\n",
              "      <td>AIRY ST &amp; SWEDE ST</td>\n",
              "      <td>1</td>\n",
              "    </tr>\n",
              "    <tr>\n",
              "      <th>4</th>\n",
              "      <td>40.251492</td>\n",
              "      <td>-75.603350</td>\n",
              "      <td>CHERRYWOOD CT &amp; DEAD END;  LOWER POTTSGROVE; S...</td>\n",
              "      <td>NaN</td>\n",
              "      <td>EMS: DIZZINESS</td>\n",
              "      <td>2015-12-10 17:40:01</td>\n",
              "      <td>LOWER POTTSGROVE</td>\n",
              "      <td>CHERRYWOOD CT &amp; DEAD END</td>\n",
              "      <td>1</td>\n",
              "    </tr>\n",
              "  </tbody>\n",
              "</table>\n",
              "</div>\n",
              "      <button class=\"colab-df-convert\" onclick=\"convertToInteractive('df-3db3c69b-05c5-455b-83cb-5194c36fec1e')\"\n",
              "              title=\"Convert this dataframe to an interactive table.\"\n",
              "              style=\"display:none;\">\n",
              "        \n",
              "  <svg xmlns=\"http://www.w3.org/2000/svg\" height=\"24px\"viewBox=\"0 0 24 24\"\n",
              "       width=\"24px\">\n",
              "    <path d=\"M0 0h24v24H0V0z\" fill=\"none\"/>\n",
              "    <path d=\"M18.56 5.44l.94 2.06.94-2.06 2.06-.94-2.06-.94-.94-2.06-.94 2.06-2.06.94zm-11 1L8.5 8.5l.94-2.06 2.06-.94-2.06-.94L8.5 2.5l-.94 2.06-2.06.94zm10 10l.94 2.06.94-2.06 2.06-.94-2.06-.94-.94-2.06-.94 2.06-2.06.94z\"/><path d=\"M17.41 7.96l-1.37-1.37c-.4-.4-.92-.59-1.43-.59-.52 0-1.04.2-1.43.59L10.3 9.45l-7.72 7.72c-.78.78-.78 2.05 0 2.83L4 21.41c.39.39.9.59 1.41.59.51 0 1.02-.2 1.41-.59l7.78-7.78 2.81-2.81c.8-.78.8-2.07 0-2.86zM5.41 20L4 18.59l7.72-7.72 1.47 1.35L5.41 20z\"/>\n",
              "  </svg>\n",
              "      </button>\n",
              "      \n",
              "  <style>\n",
              "    .colab-df-container {\n",
              "      display:flex;\n",
              "      flex-wrap:wrap;\n",
              "      gap: 12px;\n",
              "    }\n",
              "\n",
              "    .colab-df-convert {\n",
              "      background-color: #E8F0FE;\n",
              "      border: none;\n",
              "      border-radius: 50%;\n",
              "      cursor: pointer;\n",
              "      display: none;\n",
              "      fill: #1967D2;\n",
              "      height: 32px;\n",
              "      padding: 0 0 0 0;\n",
              "      width: 32px;\n",
              "    }\n",
              "\n",
              "    .colab-df-convert:hover {\n",
              "      background-color: #E2EBFA;\n",
              "      box-shadow: 0px 1px 2px rgba(60, 64, 67, 0.3), 0px 1px 3px 1px rgba(60, 64, 67, 0.15);\n",
              "      fill: #174EA6;\n",
              "    }\n",
              "\n",
              "    [theme=dark] .colab-df-convert {\n",
              "      background-color: #3B4455;\n",
              "      fill: #D2E3FC;\n",
              "    }\n",
              "\n",
              "    [theme=dark] .colab-df-convert:hover {\n",
              "      background-color: #434B5C;\n",
              "      box-shadow: 0px 1px 3px 1px rgba(0, 0, 0, 0.15);\n",
              "      filter: drop-shadow(0px 1px 2px rgba(0, 0, 0, 0.3));\n",
              "      fill: #FFFFFF;\n",
              "    }\n",
              "  </style>\n",
              "\n",
              "      <script>\n",
              "        const buttonEl =\n",
              "          document.querySelector('#df-3db3c69b-05c5-455b-83cb-5194c36fec1e button.colab-df-convert');\n",
              "        buttonEl.style.display =\n",
              "          google.colab.kernel.accessAllowed ? 'block' : 'none';\n",
              "\n",
              "        async function convertToInteractive(key) {\n",
              "          const element = document.querySelector('#df-3db3c69b-05c5-455b-83cb-5194c36fec1e');\n",
              "          const dataTable =\n",
              "            await google.colab.kernel.invokeFunction('convertToInteractive',\n",
              "                                                     [key], {});\n",
              "          if (!dataTable) return;\n",
              "\n",
              "          const docLinkHtml = 'Like what you see? Visit the ' +\n",
              "            '<a target=\"_blank\" href=https://colab.research.google.com/notebooks/data_table.ipynb>data table notebook</a>'\n",
              "            + ' to learn more about interactive tables.';\n",
              "          element.innerHTML = '';\n",
              "          dataTable['output_type'] = 'display_data';\n",
              "          await google.colab.output.renderOutput(dataTable, element);\n",
              "          const docLink = document.createElement('div');\n",
              "          docLink.innerHTML = docLinkHtml;\n",
              "          element.appendChild(docLink);\n",
              "        }\n",
              "      </script>\n",
              "    </div>\n",
              "  </div>\n",
              "  "
            ]
          },
          "metadata": {},
          "execution_count": 83
        }
      ],
      "source": [
        "df.head()"
      ]
    },
    {
      "cell_type": "code",
      "execution_count": 84,
      "metadata": {
        "id": "9vxT9haXPOiv",
        "outputId": "099e8d3d-bb43-41d2-853d-7bf7f2660202",
        "colab": {
          "base_uri": "https://localhost:8080/"
        }
      },
      "outputs": [
        {
          "output_type": "execute_result",
          "data": {
            "text/plain": [
              "19401.0    6979\n",
              "19464.0    6643\n",
              "19403.0    4854\n",
              "19446.0    4748\n",
              "19406.0    3174\n",
              "Name: zip, dtype: int64"
            ]
          },
          "metadata": {},
          "execution_count": 84
        }
      ],
      "source": [
        "# top 5 zip codes \n",
        "df['zip'].value_counts().head(5) "
      ]
    },
    {
      "cell_type": "code",
      "execution_count": 85,
      "metadata": {
        "id": "BJmqLFJwPOiw",
        "outputId": "1bba28be-4353-4583-eaf0-3a6cfd730be1",
        "colab": {
          "base_uri": "https://localhost:8080/"
        }
      },
      "outputs": [
        {
          "output_type": "execute_result",
          "data": {
            "text/plain": [
              "LOWER MERION    8443\n",
              "ABINGTON        5977\n",
              "NORRISTOWN      5890\n",
              "UPPER MERION    5227\n",
              "CHELTENHAM      4575\n",
              "Name: twp, dtype: int64"
            ]
          },
          "metadata": {},
          "execution_count": 85
        }
      ],
      "source": [
        "# top 5 townships\n",
        "df['twp'].value_counts().head(5) "
      ]
    },
    {
      "cell_type": "code",
      "execution_count": 86,
      "metadata": {
        "id": "ADuVEAI4POix",
        "outputId": "944f133a-9ea7-41e3-bd4d-245adc24f597",
        "colab": {
          "base_uri": "https://localhost:8080/"
        }
      },
      "outputs": [
        {
          "output_type": "execute_result",
          "data": {
            "text/plain": [
              "110"
            ]
          },
          "metadata": {},
          "execution_count": 86
        }
      ],
      "source": [
        "# number of unique reason for 911 calls\n",
        "df['title'].nunique()  "
      ]
    },
    {
      "cell_type": "markdown",
      "metadata": {
        "id": "Vb8lYL5UPOix"
      },
      "source": [
        "### Adding new features"
      ]
    },
    {
      "cell_type": "markdown",
      "metadata": {
        "id": "rd9JyvSLPOix"
      },
      "source": [
        "It could be helpful to split the '*title*' column in order to isolate the reason why the calls were made\n",
        "\n"
      ]
    },
    {
      "cell_type": "code",
      "execution_count": 104,
      "metadata": {
        "collapsed": true,
        "id": "nK21j_wIPOix"
      },
      "outputs": [],
      "source": [
        "df['Reason'] = df['title'].apply(lambda x: x.split(':')[0])"
      ]
    },
    {
      "cell_type": "code",
      "source": [
        "df['Reason'].unique()"
      ],
      "metadata": {
        "colab": {
          "base_uri": "https://localhost:8080/"
        },
        "id": "VfNIbEK0K61N",
        "outputId": "3ccb705e-12ca-4bda-eead-95eecdc27eba"
      },
      "execution_count": 105,
      "outputs": [
        {
          "output_type": "execute_result",
          "data": {
            "text/plain": [
              "array(['EMS', 'Fire', 'Traffic'], dtype=object)"
            ]
          },
          "metadata": {},
          "execution_count": 105
        }
      ]
    },
    {
      "cell_type": "markdown",
      "metadata": {
        "id": "CAIfCJETPOiy"
      },
      "source": [
        "\n",
        "It can be seen that there were only 3 main reasons\n",
        "\n"
      ]
    },
    {
      "cell_type": "code",
      "execution_count": 106,
      "metadata": {
        "id": "AxBzXzRXPOiy",
        "outputId": "19a5d7ea-16ff-4504-cb2b-ccb8a006b081",
        "colab": {
          "base_uri": "https://localhost:8080/"
        }
      },
      "outputs": [
        {
          "output_type": "execute_result",
          "data": {
            "text/plain": [
              "EMS        48877\n",
              "Traffic    35695\n",
              "Fire       14920\n",
              "Name: Reason, dtype: int64"
            ]
          },
          "metadata": {},
          "execution_count": 106
        }
      ],
      "source": [
        "df['Reason'].value_counts()"
      ]
    },
    {
      "cell_type": "markdown",
      "metadata": {
        "id": "baHvBhqLPOiy"
      },
      "source": [
        "The most common cause is EMS: Emergency Medical Services"
      ]
    },
    {
      "cell_type": "markdown",
      "source": [
        "## Plots"
      ],
      "metadata": {
        "id": "XGiYvunRWMI1"
      }
    },
    {
      "cell_type": "markdown",
      "source": [
        "###Countplots"
      ],
      "metadata": {
        "id": "Dbodo3jjZM3m"
      }
    },
    {
      "cell_type": "code",
      "execution_count": 66,
      "metadata": {
        "id": "hq94jd6gPOiy",
        "outputId": "db4cc39c-217b-4fef-9b88-b5459dda84bf",
        "colab": {
          "base_uri": "https://localhost:8080/",
          "height": 296
        }
      },
      "outputs": [
        {
          "output_type": "execute_result",
          "data": {
            "text/plain": [
              "<matplotlib.axes._subplots.AxesSubplot at 0x7fa335d15f10>"
            ]
          },
          "metadata": {},
          "execution_count": 66
        },
        {
          "output_type": "display_data",
          "data": {
            "text/plain": [
              "<Figure size 432x288 with 1 Axes>"
            ],
            "image/png": "[encoded data removed]"
          },
          "metadata": {
            "needs_background": "light"
          }
        }
      ],
      "source": [
        "sns.countplot(x='Reason',data=df,palette='viridis')"
      ]
    },
    {
      "cell_type": "code",
      "execution_count": 107,
      "metadata": {
        "id": "iS88oI_mPOiz",
        "outputId": "197bd8cf-e4da-412b-ad8a-51a608a9770a",
        "colab": {
          "base_uri": "https://localhost:8080/"
        }
      },
      "outputs": [
        {
          "output_type": "execute_result",
          "data": {
            "text/plain": [
              "pandas._libs.tslibs.timestamps.Timestamp"
            ]
          },
          "metadata": {},
          "execution_count": 107
        }
      ],
      "source": [
        "type(df['timeStamp'].iloc[0])"
      ]
    },
    {
      "cell_type": "code",
      "execution_count": 108,
      "metadata": {
        "collapsed": true,
        "id": "3qWw07l3POiz"
      },
      "outputs": [],
      "source": [
        "# datetime conversion of timeStamp column\n",
        "df['timeStamp'] = pd.to_datetime(df['timeStamp'])"
      ]
    },
    {
      "cell_type": "markdown",
      "metadata": {
        "id": "viMvFsRaPOiz"
      },
      "source": [
        "In order to do some time analysis it is convenient to add 3 more time columns from timeStamp: '*Day of week*', '*Month*' and '*Hour*'."
      ]
    },
    {
      "cell_type": "code",
      "execution_count": 109,
      "metadata": {
        "id": "-UFq9oPmPOi0"
      },
      "outputs": [],
      "source": [
        "df['Hour'] = df['timeStamp'].apply(lambda time: time.hour)\n",
        "df['Month'] = df['timeStamp'].apply(lambda time: time.month)\n",
        "df['Day of Week'] = df['timeStamp'].apply(lambda time: time.dayofweek)"
      ]
    },
    {
      "cell_type": "code",
      "source": [
        "df.head()"
      ],
      "metadata": {
        "colab": {
          "base_uri": "https://localhost:8080/",
          "height": 406
        },
        "id": "UsnGQW1rXTRu",
        "outputId": "25f7aaba-2bcd-479d-e26b-a01b8c75adb5"
      },
      "execution_count": 75,
      "outputs": [
        {
          "output_type": "execute_result",
          "data": {
            "text/plain": [
              "         lat        lng                                               desc  \\\n",
              "0  40.297876 -75.581294  REINDEER CT & DEAD END;  NEW HANOVER; Station ...   \n",
              "1  40.258061 -75.264680  BRIAR PATH & WHITEMARSH LN;  HATFIELD TOWNSHIP...   \n",
              "2  40.121182 -75.351975  HAWS AVE; NORRISTOWN; 2015-12-10 @ 14:39:21-St...   \n",
              "3  40.116153 -75.343513  AIRY ST & SWEDE ST;  NORRISTOWN; Station 308A;...   \n",
              "4  40.251492 -75.603350  CHERRYWOOD CT & DEAD END;  LOWER POTTSGROVE; S...   \n",
              "\n",
              "       zip                    title           timeStamp                twp  \\\n",
              "0  19525.0   EMS: BACK PAINS/INJURY 2015-12-10 17:40:00        NEW HANOVER   \n",
              "1  19446.0  EMS: DIABETIC EMERGENCY 2015-12-10 17:40:00  HATFIELD TOWNSHIP   \n",
              "2  19401.0      Fire: GAS-ODOR/LEAK 2015-12-10 17:40:00         NORRISTOWN   \n",
              "3  19401.0   EMS: CARDIAC EMERGENCY 2015-12-10 17:40:01         NORRISTOWN   \n",
              "4      NaN           EMS: DIZZINESS 2015-12-10 17:40:01   LOWER POTTSGROVE   \n",
              "\n",
              "                         addr  e Reason  Hour  Month Day of Week        Date  \n",
              "0      REINDEER CT & DEAD END  1    EMS    17     12         Thu  2015-12-10  \n",
              "1  BRIAR PATH & WHITEMARSH LN  1    EMS    17     12         Thu  2015-12-10  \n",
              "2                    HAWS AVE  1   Fire    17     12         Thu  2015-12-10  \n",
              "3          AIRY ST & SWEDE ST  1    EMS    17     12         Thu  2015-12-10  \n",
              "4    CHERRYWOOD CT & DEAD END  1    EMS    17     12         Thu  2015-12-10  "
            ],
            "text/html": [
              "\n",
              "  <div id=\"df-504b82ea-707b-4f3a-81c8-1704ae655714\">\n",
              "    <div class=\"colab-df-container\">\n",
              "      <div>\n",
              "<style scoped>\n",
              "    .dataframe tbody tr th:only-of-type {\n",
              "        vertical-align: middle;\n",
              "    }\n",
              "\n",
              "    .dataframe tbody tr th {\n",
              "        vertical-align: top;\n",
              "    }\n",
              "\n",
              "    .dataframe thead th {\n",
              "        text-align: right;\n",
              "    }\n",
              "</style>\n",
              "<table border=\"1\" class=\"dataframe\">\n",
              "  <thead>\n",
              "    <tr style=\"text-align: right;\">\n",
              "      <th></th>\n",
              "      <th>lat</th>\n",
              "      <th>lng</th>\n",
              "      <th>desc</th>\n",
              "      <th>zip</th>\n",
              "      <th>title</th>\n",
              "      <th>timeStamp</th>\n",
              "      <th>twp</th>\n",
              "      <th>addr</th>\n",
              "      <th>e</th>\n",
              "      <th>Reason</th>\n",
              "      <th>Hour</th>\n",
              "      <th>Month</th>\n",
              "      <th>Day of Week</th>\n",
              "      <th>Date</th>\n",
              "    </tr>\n",
              "  </thead>\n",
              "  <tbody>\n",
              "    <tr>\n",
              "      <th>0</th>\n",
              "      <td>40.297876</td>\n",
              "      <td>-75.581294</td>\n",
              "      <td>REINDEER CT &amp; DEAD END;  NEW HANOVER; Station ...</td>\n",
              "      <td>19525.0</td>\n",
              "      <td>EMS: BACK PAINS/INJURY</td>\n",
              "      <td>2015-12-10 17:40:00</td>\n",
              "      <td>NEW HANOVER</td>\n",
              "      <td>REINDEER CT &amp; DEAD END</td>\n",
              "      <td>1</td>\n",
              "      <td>EMS</td>\n",
              "      <td>17</td>\n",
              "      <td>12</td>\n",
              "      <td>Thu</td>\n",
              "      <td>2015-12-10</td>\n",
              "    </tr>\n",
              "    <tr>\n",
              "      <th>1</th>\n",
              "      <td>40.258061</td>\n",
              "      <td>-75.264680</td>\n",
              "      <td>BRIAR PATH &amp; WHITEMARSH LN;  HATFIELD TOWNSHIP...</td>\n",
              "      <td>19446.0</td>\n",
              "      <td>EMS: DIABETIC EMERGENCY</td>\n",
              "      <td>2015-12-10 17:40:00</td>\n",
              "      <td>HATFIELD TOWNSHIP</td>\n",
              "      <td>BRIAR PATH &amp; WHITEMARSH LN</td>\n",
              "      <td>1</td>\n",
              "      <td>EMS</td>\n",
              "      <td>17</td>\n",
              "      <td>12</td>\n",
              "      <td>Thu</td>\n",
              "      <td>2015-12-10</td>\n",
              "    </tr>\n",
              "    <tr>\n",
              "      <th>2</th>\n",
              "      <td>40.121182</td>\n",
              "      <td>-75.351975</td>\n",
              "      <td>HAWS AVE; NORRISTOWN; 2015-12-10 @ 14:39:21-St...</td>\n",
              "      <td>19401.0</td>\n",
              "      <td>Fire: GAS-ODOR/LEAK</td>\n",
              "      <td>2015-12-10 17:40:00</td>\n",
              "      <td>NORRISTOWN</td>\n",
              "      <td>HAWS AVE</td>\n",
              "      <td>1</td>\n",
              "      <td>Fire</td>\n",
              "      <td>17</td>\n",
              "      <td>12</td>\n",
              "      <td>Thu</td>\n",
              "      <td>2015-12-10</td>\n",
              "    </tr>\n",
              "    <tr>\n",
              "      <th>3</th>\n",
              "      <td>40.116153</td>\n",
              "      <td>-75.343513</td>\n",
              "      <td>AIRY ST &amp; SWEDE ST;  NORRISTOWN; Station 308A;...</td>\n",
              "      <td>19401.0</td>\n",
              "      <td>EMS: CARDIAC EMERGENCY</td>\n",
              "      <td>2015-12-10 17:40:01</td>\n",
              "      <td>NORRISTOWN</td>\n",
              "      <td>AIRY ST &amp; SWEDE ST</td>\n",
              "      <td>1</td>\n",
              "      <td>EMS</td>\n",
              "      <td>17</td>\n",
              "      <td>12</td>\n",
              "      <td>Thu</td>\n",
              "      <td>2015-12-10</td>\n",
              "    </tr>\n",
              "    <tr>\n",
              "      <th>4</th>\n",
              "      <td>40.251492</td>\n",
              "      <td>-75.603350</td>\n",
              "      <td>CHERRYWOOD CT &amp; DEAD END;  LOWER POTTSGROVE; S...</td>\n",
              "      <td>NaN</td>\n",
              "      <td>EMS: DIZZINESS</td>\n",
              "      <td>2015-12-10 17:40:01</td>\n",
              "      <td>LOWER POTTSGROVE</td>\n",
              "      <td>CHERRYWOOD CT &amp; DEAD END</td>\n",
              "      <td>1</td>\n",
              "      <td>EMS</td>\n",
              "      <td>17</td>\n",
              "      <td>12</td>\n",
              "      <td>Thu</td>\n",
              "      <td>2015-12-10</td>\n",
              "    </tr>\n",
              "  </tbody>\n",
              "</table>\n",
              "</div>\n",
              "      <button class=\"colab-df-convert\" onclick=\"convertToInteractive('df-504b82ea-707b-4f3a-81c8-1704ae655714')\"\n",
              "              title=\"Convert this dataframe to an interactive table.\"\n",
              "              style=\"display:none;\">\n",
              "        \n",
              "  <svg xmlns=\"http://www.w3.org/2000/svg\" height=\"24px\"viewBox=\"0 0 24 24\"\n",
              "       width=\"24px\">\n",
              "    <path d=\"M0 0h24v24H0V0z\" fill=\"none\"/>\n",
              "    <path d=\"M18.56 5.44l.94 2.06.94-2.06 2.06-.94-2.06-.94-.94-2.06-.94 2.06-2.06.94zm-11 1L8.5 8.5l.94-2.06 2.06-.94-2.06-.94L8.5 2.5l-.94 2.06-2.06.94zm10 10l.94 2.06.94-2.06 2.06-.94-2.06-.94-.94-2.06-.94 2.06-2.06.94z\"/><path d=\"M17.41 7.96l-1.37-1.37c-.4-.4-.92-.59-1.43-.59-.52 0-1.04.2-1.43.59L10.3 9.45l-7.72 7.72c-.78.78-.78 2.05 0 2.83L4 21.41c.39.39.9.59 1.41.59.51 0 1.02-.2 1.41-.59l7.78-7.78 2.81-2.81c.8-.78.8-2.07 0-2.86zM5.41 20L4 18.59l7.72-7.72 1.47 1.35L5.41 20z\"/>\n",
              "  </svg>\n",
              "      </button>\n",
              "      \n",
              "  <style>\n",
              "    .colab-df-container {\n",
              "      display:flex;\n",
              "      flex-wrap:wrap;\n",
              "      gap: 12px;\n",
              "    }\n",
              "\n",
              "    .colab-df-convert {\n",
              "      background-color: #E8F0FE;\n",
              "      border: none;\n",
              "      border-radius: 50%;\n",
              "      cursor: pointer;\n",
              "      display: none;\n",
              "      fill: #1967D2;\n",
              "      height: 32px;\n",
              "      padding: 0 0 0 0;\n",
              "      width: 32px;\n",
              "    }\n",
              "\n",
              "    .colab-df-convert:hover {\n",
              "      background-color: #E2EBFA;\n",
              "      box-shadow: 0px 1px 2px rgba(60, 64, 67, 0.3), 0px 1px 3px 1px rgba(60, 64, 67, 0.15);\n",
              "      fill: #174EA6;\n",
              "    }\n",
              "\n",
              "    [theme=dark] .colab-df-convert {\n",
              "      background-color: #3B4455;\n",
              "      fill: #D2E3FC;\n",
              "    }\n",
              "\n",
              "    [theme=dark] .colab-df-convert:hover {\n",
              "      background-color: #434B5C;\n",
              "      box-shadow: 0px 1px 3px 1px rgba(0, 0, 0, 0.15);\n",
              "      filter: drop-shadow(0px 1px 2px rgba(0, 0, 0, 0.3));\n",
              "      fill: #FFFFFF;\n",
              "    }\n",
              "  </style>\n",
              "\n",
              "      <script>\n",
              "        const buttonEl =\n",
              "          document.querySelector('#df-504b82ea-707b-4f3a-81c8-1704ae655714 button.colab-df-convert');\n",
              "        buttonEl.style.display =\n",
              "          google.colab.kernel.accessAllowed ? 'block' : 'none';\n",
              "\n",
              "        async function convertToInteractive(key) {\n",
              "          const element = document.querySelector('#df-504b82ea-707b-4f3a-81c8-1704ae655714');\n",
              "          const dataTable =\n",
              "            await google.colab.kernel.invokeFunction('convertToInteractive',\n",
              "                                                     [key], {});\n",
              "          if (!dataTable) return;\n",
              "\n",
              "          const docLinkHtml = 'Like what you see? Visit the ' +\n",
              "            '<a target=\"_blank\" href=https://colab.research.google.com/notebooks/data_table.ipynb>data table notebook</a>'\n",
              "            + ' to learn more about interactive tables.';\n",
              "          element.innerHTML = '';\n",
              "          dataTable['output_type'] = 'display_data';\n",
              "          await google.colab.output.renderOutput(dataTable, element);\n",
              "          const docLink = document.createElement('div');\n",
              "          docLink.innerHTML = docLinkHtml;\n",
              "          element.appendChild(docLink);\n",
              "        }\n",
              "      </script>\n",
              "    </div>\n",
              "  </div>\n",
              "  "
            ]
          },
          "metadata": {},
          "execution_count": 75
        }
      ]
    },
    {
      "cell_type": "markdown",
      "metadata": {
        "collapsed": false,
        "id": "1j6pvGF0POi0"
      },
      "source": [
        "Converting *day of week* column from integer to a string object"
      ]
    },
    {
      "cell_type": "code",
      "execution_count": 43,
      "metadata": {
        "id": "ob7HPgRvPOi0"
      },
      "outputs": [],
      "source": [
        "dmap = {0:'Mon',1:'Tue',2:'Wed',3:'Thu',4:'Fri',5:'Sat',6:'Sun'}\n",
        "df['Day of Week'] = df['Day of Week'].map(dmap)"
      ]
    },
    {
      "cell_type": "markdown",
      "metadata": {
        "collapsed": false,
        "id": "xlDIMbbCPOi1"
      },
      "source": [
        "Seaborn's count plots were used to create plots of calls made vs Day of Week column and vs *Month*. In both of cases with the hue based off of the Reason column."
      ]
    },
    {
      "cell_type": "code",
      "execution_count": 45,
      "metadata": {
        "id": "9QJPPhpEPOi1",
        "outputId": "fb0f6a2b-a8ef-4ebf-8963-816a5e06e77e",
        "colab": {
          "base_uri": "https://localhost:8080/",
          "height": 296
        }
      },
      "outputs": [
        {
          "output_type": "execute_result",
          "data": {
            "text/plain": [
              "<matplotlib.legend.Legend at 0x7fa338c14580>"
            ]
          },
          "metadata": {},
          "execution_count": 45
        },
        {
          "output_type": "display_data",
          "data": {
            "text/plain": [
              "<Figure size 432x288 with 1 Axes>"
            ],
            "image/png": "[encoded data removed]"
          },
          "metadata": {
            "needs_background": "light"
          }
        }
      ],
      "source": [
        "sns.countplot(x='Day of Week',data=df,hue='Reason',palette='viridis')\n",
        "\n",
        "# To relocate the legend\n",
        "plt.legend(bbox_to_anchor=(1.05, 1), loc=2, borderaxespad=0.)"
      ]
    },
    {
      "cell_type": "code",
      "execution_count": 46,
      "metadata": {
        "id": "QSBuKcAUPOi2",
        "outputId": "26df15fa-d001-4a2f-a7e7-51c7c3e4f5a0",
        "colab": {
          "base_uri": "https://localhost:8080/",
          "height": 296
        }
      },
      "outputs": [
        {
          "output_type": "execute_result",
          "data": {
            "text/plain": [
              "<matplotlib.legend.Legend at 0x7fa33d287f70>"
            ]
          },
          "metadata": {},
          "execution_count": 46
        },
        {
          "output_type": "display_data",
          "data": {
            "text/plain": [
              "<Figure size 432x288 with 1 Axes>"
            ],
            "image/png": "[encoded data removed]"
          },
          "metadata": {
            "needs_background": "light"
          }
        }
      ],
      "source": [
        "sns.countplot(x='Month',data=df,hue='Reason',palette='viridis')\n",
        "\n",
        "# To relocate the legend\n",
        "plt.legend(bbox_to_anchor=(1.05, 1), loc=2, borderaxespad=0.)"
      ]
    },
    {
      "cell_type": "markdown",
      "metadata": {
        "id": "U0lrPQmGPOi2"
      },
      "source": [
        "From the plots it can be seen that actually some months are missing. In particular 9, 10, 11. It is possible to have some informations from these missing data through a continuos plot (although interpolated). "
      ]
    },
    {
      "cell_type": "markdown",
      "source": [
        "### Continuos plot"
      ],
      "metadata": {
        "id": "pVAqupwPbXn4"
      }
    },
    {
      "cell_type": "code",
      "execution_count": 47,
      "metadata": {
        "id": "KHUUt2fgPOi3",
        "outputId": "bc352751-289f-4640-a2c8-bd24df09c454",
        "colab": {
          "base_uri": "https://localhost:8080/",
          "height": 237
        }
      },
      "outputs": [
        {
          "output_type": "execute_result",
          "data": {
            "text/plain": [
              "         lat    lng   desc    zip  title  timeStamp    twp   addr      e  \\\n",
              "Month                                                                      \n",
              "1      13205  13205  13205  11527  13205      13205  13203  13096  13205   \n",
              "2      11467  11467  11467   9930  11467      11467  11465  11396  11467   \n",
              "3      11101  11101  11101   9755  11101      11101  11092  11059  11101   \n",
              "4      11326  11326  11326   9895  11326      11326  11323  11283  11326   \n",
              "5      11423  11423  11423   9946  11423      11423  11420  11378  11423   \n",
              "\n",
              "       Reason   Hour  Day of Week  \n",
              "Month                              \n",
              "1       13205  13205        13205  \n",
              "2       11467  11467        11467  \n",
              "3       11101  11101        11101  \n",
              "4       11326  11326        11326  \n",
              "5       11423  11423        11423  "
            ],
            "text/html": [
              "\n",
              "  <div id=\"df-6f5d1f40-4059-48b1-9cb8-32bf849cf9e2\">\n",
              "    <div class=\"colab-df-container\">\n",
              "      <div>\n",
              "<style scoped>\n",
              "    .dataframe tbody tr th:only-of-type {\n",
              "        vertical-align: middle;\n",
              "    }\n",
              "\n",
              "    .dataframe tbody tr th {\n",
              "        vertical-align: top;\n",
              "    }\n",
              "\n",
              "    .dataframe thead th {\n",
              "        text-align: right;\n",
              "    }\n",
              "</style>\n",
              "<table border=\"1\" class=\"dataframe\">\n",
              "  <thead>\n",
              "    <tr style=\"text-align: right;\">\n",
              "      <th></th>\n",
              "      <th>lat</th>\n",
              "      <th>lng</th>\n",
              "      <th>desc</th>\n",
              "      <th>zip</th>\n",
              "      <th>title</th>\n",
              "      <th>timeStamp</th>\n",
              "      <th>twp</th>\n",
              "      <th>addr</th>\n",
              "      <th>e</th>\n",
              "      <th>Reason</th>\n",
              "      <th>Hour</th>\n",
              "      <th>Day of Week</th>\n",
              "    </tr>\n",
              "    <tr>\n",
              "      <th>Month</th>\n",
              "      <th></th>\n",
              "      <th></th>\n",
              "      <th></th>\n",
              "      <th></th>\n",
              "      <th></th>\n",
              "      <th></th>\n",
              "      <th></th>\n",
              "      <th></th>\n",
              "      <th></th>\n",
              "      <th></th>\n",
              "      <th></th>\n",
              "      <th></th>\n",
              "    </tr>\n",
              "  </thead>\n",
              "  <tbody>\n",
              "    <tr>\n",
              "      <th>1</th>\n",
              "      <td>13205</td>\n",
              "      <td>13205</td>\n",
              "      <td>13205</td>\n",
              "      <td>11527</td>\n",
              "      <td>13205</td>\n",
              "      <td>13205</td>\n",
              "      <td>13203</td>\n",
              "      <td>13096</td>\n",
              "      <td>13205</td>\n",
              "      <td>13205</td>\n",
              "      <td>13205</td>\n",
              "      <td>13205</td>\n",
              "    </tr>\n",
              "    <tr>\n",
              "      <th>2</th>\n",
              "      <td>11467</td>\n",
              "      <td>11467</td>\n",
              "      <td>11467</td>\n",
              "      <td>9930</td>\n",
              "      <td>11467</td>\n",
              "      <td>11467</td>\n",
              "      <td>11465</td>\n",
              "      <td>11396</td>\n",
              "      <td>11467</td>\n",
              "      <td>11467</td>\n",
              "      <td>11467</td>\n",
              "      <td>11467</td>\n",
              "    </tr>\n",
              "    <tr>\n",
              "      <th>3</th>\n",
              "      <td>11101</td>\n",
              "      <td>11101</td>\n",
              "      <td>11101</td>\n",
              "      <td>9755</td>\n",
              "      <td>11101</td>\n",
              "      <td>11101</td>\n",
              "      <td>11092</td>\n",
              "      <td>11059</td>\n",
              "      <td>11101</td>\n",
              "      <td>11101</td>\n",
              "      <td>11101</td>\n",
              "      <td>11101</td>\n",
              "    </tr>\n",
              "    <tr>\n",
              "      <th>4</th>\n",
              "      <td>11326</td>\n",
              "      <td>11326</td>\n",
              "      <td>11326</td>\n",
              "      <td>9895</td>\n",
              "      <td>11326</td>\n",
              "      <td>11326</td>\n",
              "      <td>11323</td>\n",
              "      <td>11283</td>\n",
              "      <td>11326</td>\n",
              "      <td>11326</td>\n",
              "      <td>11326</td>\n",
              "      <td>11326</td>\n",
              "    </tr>\n",
              "    <tr>\n",
              "      <th>5</th>\n",
              "      <td>11423</td>\n",
              "      <td>11423</td>\n",
              "      <td>11423</td>\n",
              "      <td>9946</td>\n",
              "      <td>11423</td>\n",
              "      <td>11423</td>\n",
              "      <td>11420</td>\n",
              "      <td>11378</td>\n",
              "      <td>11423</td>\n",
              "      <td>11423</td>\n",
              "      <td>11423</td>\n",
              "      <td>11423</td>\n",
              "    </tr>\n",
              "  </tbody>\n",
              "</table>\n",
              "</div>\n",
              "      <button class=\"colab-df-convert\" onclick=\"convertToInteractive('df-6f5d1f40-4059-48b1-9cb8-32bf849cf9e2')\"\n",
              "              title=\"Convert this dataframe to an interactive table.\"\n",
              "              style=\"display:none;\">\n",
              "        \n",
              "  <svg xmlns=\"http://www.w3.org/2000/svg\" height=\"24px\"viewBox=\"0 0 24 24\"\n",
              "       width=\"24px\">\n",
              "    <path d=\"M0 0h24v24H0V0z\" fill=\"none\"/>\n",
              "    <path d=\"M18.56 5.44l.94 2.06.94-2.06 2.06-.94-2.06-.94-.94-2.06-.94 2.06-2.06.94zm-11 1L8.5 8.5l.94-2.06 2.06-.94-2.06-.94L8.5 2.5l-.94 2.06-2.06.94zm10 10l.94 2.06.94-2.06 2.06-.94-2.06-.94-.94-2.06-.94 2.06-2.06.94z\"/><path d=\"M17.41 7.96l-1.37-1.37c-.4-.4-.92-.59-1.43-.59-.52 0-1.04.2-1.43.59L10.3 9.45l-7.72 7.72c-.78.78-.78 2.05 0 2.83L4 21.41c.39.39.9.59 1.41.59.51 0 1.02-.2 1.41-.59l7.78-7.78 2.81-2.81c.8-.78.8-2.07 0-2.86zM5.41 20L4 18.59l7.72-7.72 1.47 1.35L5.41 20z\"/>\n",
              "  </svg>\n",
              "      </button>\n",
              "      \n",
              "  <style>\n",
              "    .colab-df-container {\n",
              "      display:flex;\n",
              "      flex-wrap:wrap;\n",
              "      gap: 12px;\n",
              "    }\n",
              "\n",
              "    .colab-df-convert {\n",
              "      background-color: #E8F0FE;\n",
              "      border: none;\n",
              "      border-radius: 50%;\n",
              "      cursor: pointer;\n",
              "      display: none;\n",
              "      fill: #1967D2;\n",
              "      height: 32px;\n",
              "      padding: 0 0 0 0;\n",
              "      width: 32px;\n",
              "    }\n",
              "\n",
              "    .colab-df-convert:hover {\n",
              "      background-color: #E2EBFA;\n",
              "      box-shadow: 0px 1px 2px rgba(60, 64, 67, 0.3), 0px 1px 3px 1px rgba(60, 64, 67, 0.15);\n",
              "      fill: #174EA6;\n",
              "    }\n",
              "\n",
              "    [theme=dark] .colab-df-convert {\n",
              "      background-color: #3B4455;\n",
              "      fill: #D2E3FC;\n",
              "    }\n",
              "\n",
              "    [theme=dark] .colab-df-convert:hover {\n",
              "      background-color: #434B5C;\n",
              "      box-shadow: 0px 1px 3px 1px rgba(0, 0, 0, 0.15);\n",
              "      filter: drop-shadow(0px 1px 2px rgba(0, 0, 0, 0.3));\n",
              "      fill: #FFFFFF;\n",
              "    }\n",
              "  </style>\n",
              "\n",
              "      <script>\n",
              "        const buttonEl =\n",
              "          document.querySelector('#df-6f5d1f40-4059-48b1-9cb8-32bf849cf9e2 button.colab-df-convert');\n",
              "        buttonEl.style.display =\n",
              "          google.colab.kernel.accessAllowed ? 'block' : 'none';\n",
              "\n",
              "        async function convertToInteractive(key) {\n",
              "          const element = document.querySelector('#df-6f5d1f40-4059-48b1-9cb8-32bf849cf9e2');\n",
              "          const dataTable =\n",
              "            await google.colab.kernel.invokeFunction('convertToInteractive',\n",
              "                                                     [key], {});\n",
              "          if (!dataTable) return;\n",
              "\n",
              "          const docLinkHtml = 'Like what you see? Visit the ' +\n",
              "            '<a target=\"_blank\" href=https://colab.research.google.com/notebooks/data_table.ipynb>data table notebook</a>'\n",
              "            + ' to learn more about interactive tables.';\n",
              "          element.innerHTML = '';\n",
              "          dataTable['output_type'] = 'display_data';\n",
              "          await google.colab.output.renderOutput(dataTable, element);\n",
              "          const docLink = document.createElement('div');\n",
              "          docLink.innerHTML = docLinkHtml;\n",
              "          element.appendChild(docLink);\n",
              "        }\n",
              "      </script>\n",
              "    </div>\n",
              "  </div>\n",
              "  "
            ]
          },
          "metadata": {},
          "execution_count": 47
        }
      ],
      "source": [
        "byMonth = df.groupby('Month').count()\n",
        "byMonth.head()"
      ]
    },
    {
      "cell_type": "code",
      "execution_count": 79,
      "metadata": {
        "id": "UhpjbP5oPOi3",
        "outputId": "8b32b923-b07b-4aa2-d120-ec03ad6b199d",
        "colab": {
          "base_uri": "https://localhost:8080/",
          "height": 296
        }
      },
      "outputs": [
        {
          "output_type": "execute_result",
          "data": {
            "text/plain": [
              "Text(0, 0.5, 'Counts')"
            ]
          },
          "metadata": {},
          "execution_count": 79
        },
        {
          "output_type": "display_data",
          "data": {
            "text/plain": [
              "<Figure size 432x288 with 1 Axes>"
            ],
            "image/png": "[encoded data removed]"
          },
          "metadata": {
            "needs_background": "light"
          }
        }
      ],
      "source": [
        "# Linear plot from matplotlib's pyplot\n",
        "byMonth['twp'].plot()\n",
        "plt.ylabel('Counts')"
      ]
    },
    {
      "cell_type": "markdown",
      "metadata": {
        "id": "N0foihhxPOi3"
      },
      "source": [
        "Let's see how the counts vary with months through a linear plot"
      ]
    },
    {
      "cell_type": "code",
      "execution_count": 95,
      "metadata": {
        "id": "AEWhWV08POi3",
        "outputId": "931f892b-245a-4151-a58a-3887fc009934",
        "colab": {
          "base_uri": "https://localhost:8080/",
          "height": 386
        }
      },
      "outputs": [
        {
          "output_type": "execute_result",
          "data": {
            "text/plain": [
              "Text(5.174999999999997, 0.5, 'Counts')"
            ]
          },
          "metadata": {},
          "execution_count": 95
        },
        {
          "output_type": "display_data",
          "data": {
            "text/plain": [
              "<Figure size 360x360 with 1 Axes>"
            ],
            "image/png": "[encoded data removed]"
          },
          "metadata": {
            "needs_background": "light"
          }
        }
      ],
      "source": [
        "sns.lmplot(x='Month',y='twp',data=byMonth.reset_index())\n",
        "plt.ylabel('Counts')"
      ]
    },
    {
      "cell_type": "markdown",
      "metadata": {
        "id": "uv5zE1kWPOi4"
      },
      "source": [
        "Creating a new column call '*Date*' that contains dates from the '*timeStamp*' column and plotting 911 calls against it. In particular 4 cases were investigated: the general one, Traffic, Fire and EMS.\n",
        "\n",
        "\n"
      ]
    },
    {
      "cell_type": "code",
      "execution_count": 97,
      "metadata": {
        "collapsed": true,
        "id": "_KMQnvH2POi4"
      },
      "outputs": [],
      "source": [
        "df['Date']=df['timeStamp'].apply(lambda t: t.date())"
      ]
    },
    {
      "cell_type": "code",
      "execution_count": 99,
      "metadata": {
        "id": "PUf__U6ePOi4",
        "outputId": "b8c15587-0862-4486-f548-9b06903954e4",
        "colab": {
          "base_uri": "https://localhost:8080/",
          "height": 314
        }
      },
      "outputs": [
        {
          "output_type": "execute_result",
          "data": {
            "text/plain": [
              "Text(24.125, 0.5, 'Counts')"
            ]
          },
          "metadata": {},
          "execution_count": 99
        },
        {
          "output_type": "display_data",
          "data": {
            "text/plain": [
              "<Figure size 432x288 with 1 Axes>"
            ],
            "image/png": "[encoded data removed]"
          },
          "metadata": {
            "needs_background": "light"
          }
        }
      ],
      "source": [
        "df.groupby('Date').count()['twp'].plot()\n",
        "plt.tight_layout()\n",
        "plt.ylabel('Counts')\n"
      ]
    },
    {
      "cell_type": "code",
      "execution_count": 100,
      "metadata": {
        "id": "ty58W8r1POi4",
        "outputId": "f5d34b4b-f030-44c8-e6de-1d421d61d48b",
        "colab": {
          "base_uri": "https://localhost:8080/",
          "height": 314
        }
      },
      "outputs": [
        {
          "output_type": "execute_result",
          "data": {
            "text/plain": [
              "Text(24.125, 0.5, 'Counts')"
            ]
          },
          "metadata": {},
          "execution_count": 100
        },
        {
          "output_type": "display_data",
          "data": {
            "text/plain": [
              "<Figure size 432x288 with 1 Axes>"
            ],
            "image/png": "[encoded data removed]"
          },
          "metadata": {
            "needs_background": "light"
          }
        }
      ],
      "source": [
        "df[df['Reason']=='Traffic'].groupby('Date').count()['twp'].plot()\n",
        "plt.title('Traffic')\n",
        "plt.tight_layout()\n",
        "plt.ylabel('Counts')"
      ]
    },
    {
      "cell_type": "code",
      "execution_count": 101,
      "metadata": {
        "id": "vDWhfdPEPOi5",
        "outputId": "55012eed-62d3-4fc1-b851-a8563caf8851",
        "colab": {
          "base_uri": "https://localhost:8080/",
          "height": 314
        }
      },
      "outputs": [
        {
          "output_type": "execute_result",
          "data": {
            "text/plain": [
              "Text(24.0, 0.5, 'Counts')"
            ]
          },
          "metadata": {},
          "execution_count": 101
        },
        {
          "output_type": "display_data",
          "data": {
            "text/plain": [
              "<Figure size 432x288 with 1 Axes>"
            ],
            "image/png": "[encoded data removed]"
          },
          "metadata": {
            "needs_background": "light"
          }
        }
      ],
      "source": [
        "df[df['Reason']=='Fire'].groupby('Date').count()['twp'].plot()\n",
        "plt.title('Fire')\n",
        "plt.tight_layout()\n",
        "plt.ylabel('Counts')"
      ]
    },
    {
      "cell_type": "code",
      "execution_count": 102,
      "metadata": {
        "id": "alg40gFgPOi5",
        "outputId": "e16b1f51-a3be-4cac-ef5e-11b6fd9b5faf",
        "colab": {
          "base_uri": "https://localhost:8080/",
          "height": 314
        }
      },
      "outputs": [
        {
          "output_type": "execute_result",
          "data": {
            "text/plain": [
              "Text(23.875, 0.5, 'Counts')"
            ]
          },
          "metadata": {},
          "execution_count": 102
        },
        {
          "output_type": "display_data",
          "data": {
            "text/plain": [
              "<Figure size 432x288 with 1 Axes>"
            ],
            "image/png": "[encoded data removed]"
          },
          "metadata": {
            "needs_background": "light"
          }
        }
      ],
      "source": [
        "df[df['Reason']=='EMS'].groupby('Date').count()['twp'].plot()\n",
        "plt.title('EMS')\n",
        "plt.tight_layout()\n",
        "plt.ylabel('Counts')"
      ]
    },
    {
      "cell_type": "markdown",
      "source": [
        "### Heatmaps"
      ],
      "metadata": {
        "id": "Pt_akwcFezlj"
      }
    },
    {
      "cell_type": "markdown",
      "metadata": {
        "collapsed": false,
        "id": "76autYW9POi5"
      },
      "source": [
        "Let's move on creating heatmaps using Seaborn. First, it is needed to restructure the dataframe so that the columns become the hours and the index becomes the day of the week"
      ]
    },
    {
      "cell_type": "code",
      "execution_count": 111,
      "metadata": {
        "id": "5TYF3lIvPOi5",
        "outputId": "4e83a5bd-7d74-4797-c4fa-d43957ac29eb",
        "colab": {
          "base_uri": "https://localhost:8080/",
          "height": 267
        }
      },
      "outputs": [
        {
          "output_type": "execute_result",
          "data": {
            "text/plain": [
              "Hour          0    1    2    3    4    5    6    7    8    9   ...   14   15  \\\n",
              "Day of Week                                                    ...             \n",
              "0            282  221  201  194  204  267  397  653  819  786  ...  869  913   \n",
              "1            269  240  186  170  209  239  415  655  889  880  ...  943  938   \n",
              "2            250  216  189  209  156  255  410  701  875  808  ...  904  867   \n",
              "3            278  202  233  159  182  203  362  570  777  828  ...  876  969   \n",
              "4            275  235  191  175  201  194  372  598  742  752  ...  932  980   \n",
              "\n",
              "Hour           16    17   18   19   20   21   22   23  \n",
              "Day of Week                                            \n",
              "0             989   997  885  746  613  497  472  325  \n",
              "1            1026  1019  905  731  647  571  462  274  \n",
              "2             990  1037  894  686  668  575  490  335  \n",
              "3             935  1013  810  698  617  553  424  354  \n",
              "4            1039   980  820  696  667  559  514  474  \n",
              "\n",
              "[5 rows x 24 columns]"
            ],
            "text/html": [
              "\n",
              "  <div id=\"df-0984c561-7943-4790-ac9a-01b641a8759d\">\n",
              "    <div class=\"colab-df-container\">\n",
              "      <div>\n",
              "<style scoped>\n",
              "    .dataframe tbody tr th:only-of-type {\n",
              "        vertical-align: middle;\n",
              "    }\n",
              "\n",
              "    .dataframe tbody tr th {\n",
              "        vertical-align: top;\n",
              "    }\n",
              "\n",
              "    .dataframe thead th {\n",
              "        text-align: right;\n",
              "    }\n",
              "</style>\n",
              "<table border=\"1\" class=\"dataframe\">\n",
              "  <thead>\n",
              "    <tr style=\"text-align: right;\">\n",
              "      <th>Hour</th>\n",
              "      <th>0</th>\n",
              "      <th>1</th>\n",
              "      <th>2</th>\n",
              "      <th>3</th>\n",
              "      <th>4</th>\n",
              "      <th>5</th>\n",
              "      <th>6</th>\n",
              "      <th>7</th>\n",
              "      <th>8</th>\n",
              "      <th>9</th>\n",
              "      <th>...</th>\n",
              "      <th>14</th>\n",
              "      <th>15</th>\n",
              "      <th>16</th>\n",
              "      <th>17</th>\n",
              "      <th>18</th>\n",
              "      <th>19</th>\n",
              "      <th>20</th>\n",
              "      <th>21</th>\n",
              "      <th>22</th>\n",
              "      <th>23</th>\n",
              "    </tr>\n",
              "    <tr>\n",
              "      <th>Day of Week</th>\n",
              "      <th></th>\n",
              "      <th></th>\n",
              "      <th></th>\n",
              "      <th></th>\n",
              "      <th></th>\n",
              "      <th></th>\n",
              "      <th></th>\n",
              "      <th></th>\n",
              "      <th></th>\n",
              "      <th></th>\n",
              "      <th></th>\n",
              "      <th></th>\n",
              "      <th></th>\n",
              "      <th></th>\n",
              "      <th></th>\n",
              "      <th></th>\n",
              "      <th></th>\n",
              "      <th></th>\n",
              "      <th></th>\n",
              "      <th></th>\n",
              "      <th></th>\n",
              "    </tr>\n",
              "  </thead>\n",
              "  <tbody>\n",
              "    <tr>\n",
              "      <th>0</th>\n",
              "      <td>282</td>\n",
              "      <td>221</td>\n",
              "      <td>201</td>\n",
              "      <td>194</td>\n",
              "      <td>204</td>\n",
              "      <td>267</td>\n",
              "      <td>397</td>\n",
              "      <td>653</td>\n",
              "      <td>819</td>\n",
              "      <td>786</td>\n",
              "      <td>...</td>\n",
              "      <td>869</td>\n",
              "      <td>913</td>\n",
              "      <td>989</td>\n",
              "      <td>997</td>\n",
              "      <td>885</td>\n",
              "      <td>746</td>\n",
              "      <td>613</td>\n",
              "      <td>497</td>\n",
              "      <td>472</td>\n",
              "      <td>325</td>\n",
              "    </tr>\n",
              "    <tr>\n",
              "      <th>1</th>\n",
              "      <td>269</td>\n",
              "      <td>240</td>\n",
              "      <td>186</td>\n",
              "      <td>170</td>\n",
              "      <td>209</td>\n",
              "      <td>239</td>\n",
              "      <td>415</td>\n",
              "      <td>655</td>\n",
              "      <td>889</td>\n",
              "      <td>880</td>\n",
              "      <td>...</td>\n",
              "      <td>943</td>\n",
              "      <td>938</td>\n",
              "      <td>1026</td>\n",
              "      <td>1019</td>\n",
              "      <td>905</td>\n",
              "      <td>731</td>\n",
              "      <td>647</td>\n",
              "      <td>571</td>\n",
              "      <td>462</td>\n",
              "      <td>274</td>\n",
              "    </tr>\n",
              "    <tr>\n",
              "      <th>2</th>\n",
              "      <td>250</td>\n",
              "      <td>216</td>\n",
              "      <td>189</td>\n",
              "      <td>209</td>\n",
              "      <td>156</td>\n",
              "      <td>255</td>\n",
              "      <td>410</td>\n",
              "      <td>701</td>\n",
              "      <td>875</td>\n",
              "      <td>808</td>\n",
              "      <td>...</td>\n",
              "      <td>904</td>\n",
              "      <td>867</td>\n",
              "      <td>990</td>\n",
              "      <td>1037</td>\n",
              "      <td>894</td>\n",
              "      <td>686</td>\n",
              "      <td>668</td>\n",
              "      <td>575</td>\n",
              "      <td>490</td>\n",
              "      <td>335</td>\n",
              "    </tr>\n",
              "    <tr>\n",
              "      <th>3</th>\n",
              "      <td>278</td>\n",
              "      <td>202</td>\n",
              "      <td>233</td>\n",
              "      <td>159</td>\n",
              "      <td>182</td>\n",
              "      <td>203</td>\n",
              "      <td>362</td>\n",
              "      <td>570</td>\n",
              "      <td>777</td>\n",
              "      <td>828</td>\n",
              "      <td>...</td>\n",
              "      <td>876</td>\n",
              "      <td>969</td>\n",
              "      <td>935</td>\n",
              "      <td>1013</td>\n",
              "      <td>810</td>\n",
              "      <td>698</td>\n",
              "      <td>617</td>\n",
              "      <td>553</td>\n",
              "      <td>424</td>\n",
              "      <td>354</td>\n",
              "    </tr>\n",
              "    <tr>\n",
              "      <th>4</th>\n",
              "      <td>275</td>\n",
              "      <td>235</td>\n",
              "      <td>191</td>\n",
              "      <td>175</td>\n",
              "      <td>201</td>\n",
              "      <td>194</td>\n",
              "      <td>372</td>\n",
              "      <td>598</td>\n",
              "      <td>742</td>\n",
              "      <td>752</td>\n",
              "      <td>...</td>\n",
              "      <td>932</td>\n",
              "      <td>980</td>\n",
              "      <td>1039</td>\n",
              "      <td>980</td>\n",
              "      <td>820</td>\n",
              "      <td>696</td>\n",
              "      <td>667</td>\n",
              "      <td>559</td>\n",
              "      <td>514</td>\n",
              "      <td>474</td>\n",
              "    </tr>\n",
              "  </tbody>\n",
              "</table>\n",
              "<p>5 rows × 24 columns</p>\n",
              "</div>\n",
              "      <button class=\"colab-df-convert\" onclick=\"convertToInteractive('df-0984c561-7943-4790-ac9a-01b641a8759d')\"\n",
              "              title=\"Convert this dataframe to an interactive table.\"\n",
              "              style=\"display:none;\">\n",
              "        \n",
              "  <svg xmlns=\"http://www.w3.org/2000/svg\" height=\"24px\"viewBox=\"0 0 24 24\"\n",
              "       width=\"24px\">\n",
              "    <path d=\"M0 0h24v24H0V0z\" fill=\"none\"/>\n",
              "    <path d=\"M18.56 5.44l.94 2.06.94-2.06 2.06-.94-2.06-.94-.94-2.06-.94 2.06-2.06.94zm-11 1L8.5 8.5l.94-2.06 2.06-.94-2.06-.94L8.5 2.5l-.94 2.06-2.06.94zm10 10l.94 2.06.94-2.06 2.06-.94-2.06-.94-.94-2.06-.94 2.06-2.06.94z\"/><path d=\"M17.41 7.96l-1.37-1.37c-.4-.4-.92-.59-1.43-.59-.52 0-1.04.2-1.43.59L10.3 9.45l-7.72 7.72c-.78.78-.78 2.05 0 2.83L4 21.41c.39.39.9.59 1.41.59.51 0 1.02-.2 1.41-.59l7.78-7.78 2.81-2.81c.8-.78.8-2.07 0-2.86zM5.41 20L4 18.59l7.72-7.72 1.47 1.35L5.41 20z\"/>\n",
              "  </svg>\n",
              "      </button>\n",
              "      \n",
              "  <style>\n",
              "    .colab-df-container {\n",
              "      display:flex;\n",
              "      flex-wrap:wrap;\n",
              "      gap: 12px;\n",
              "    }\n",
              "\n",
              "    .colab-df-convert {\n",
              "      background-color: #E8F0FE;\n",
              "      border: none;\n",
              "      border-radius: 50%;\n",
              "      cursor: pointer;\n",
              "      display: none;\n",
              "      fill: #1967D2;\n",
              "      height: 32px;\n",
              "      padding: 0 0 0 0;\n",
              "      width: 32px;\n",
              "    }\n",
              "\n",
              "    .colab-df-convert:hover {\n",
              "      background-color: #E2EBFA;\n",
              "      box-shadow: 0px 1px 2px rgba(60, 64, 67, 0.3), 0px 1px 3px 1px rgba(60, 64, 67, 0.15);\n",
              "      fill: #174EA6;\n",
              "    }\n",
              "\n",
              "    [theme=dark] .colab-df-convert {\n",
              "      background-color: #3B4455;\n",
              "      fill: #D2E3FC;\n",
              "    }\n",
              "\n",
              "    [theme=dark] .colab-df-convert:hover {\n",
              "      background-color: #434B5C;\n",
              "      box-shadow: 0px 1px 3px 1px rgba(0, 0, 0, 0.15);\n",
              "      filter: drop-shadow(0px 1px 2px rgba(0, 0, 0, 0.3));\n",
              "      fill: #FFFFFF;\n",
              "    }\n",
              "  </style>\n",
              "\n",
              "      <script>\n",
              "        const buttonEl =\n",
              "          document.querySelector('#df-0984c561-7943-4790-ac9a-01b641a8759d button.colab-df-convert');\n",
              "        buttonEl.style.display =\n",
              "          google.colab.kernel.accessAllowed ? 'block' : 'none';\n",
              "\n",
              "        async function convertToInteractive(key) {\n",
              "          const element = document.querySelector('#df-0984c561-7943-4790-ac9a-01b641a8759d');\n",
              "          const dataTable =\n",
              "            await google.colab.kernel.invokeFunction('convertToInteractive',\n",
              "                                                     [key], {});\n",
              "          if (!dataTable) return;\n",
              "\n",
              "          const docLinkHtml = 'Like what you see? Visit the ' +\n",
              "            '<a target=\"_blank\" href=https://colab.research.google.com/notebooks/data_table.ipynb>data table notebook</a>'\n",
              "            + ' to learn more about interactive tables.';\n",
              "          element.innerHTML = '';\n",
              "          dataTable['output_type'] = 'display_data';\n",
              "          await google.colab.output.renderOutput(dataTable, element);\n",
              "          const docLink = document.createElement('div');\n",
              "          docLink.innerHTML = docLinkHtml;\n",
              "          element.appendChild(docLink);\n",
              "        }\n",
              "      </script>\n",
              "    </div>\n",
              "  </div>\n",
              "  "
            ]
          },
          "metadata": {},
          "execution_count": 111
        }
      ],
      "source": [
        "dayHour = df.groupby(by=['Day of Week','Hour']).count()['Reason'].unstack()\n",
        "dayHour.head()\n"
      ]
    },
    {
      "cell_type": "code",
      "execution_count": 112,
      "metadata": {
        "id": "pu978lzSPOi6",
        "outputId": "84a9fabf-bf14-4337-fdb1-6ae775f45f49",
        "colab": {
          "base_uri": "https://localhost:8080/",
          "height": 405
        }
      },
      "outputs": [
        {
          "output_type": "execute_result",
          "data": {
            "text/plain": [
              "<matplotlib.axes._subplots.AxesSubplot at 0x7fa33608cfd0>"
            ]
          },
          "metadata": {},
          "execution_count": 112
        },
        {
          "output_type": "display_data",
          "data": {
            "text/plain": [
              "<Figure size 864x432 with 2 Axes>"
            ],
            "image/png": "[encoded data removed]"
          },
          "metadata": {
            "needs_background": "light"
          }
        }
      ],
      "source": [
        "plt.figure(figsize=(12,6))\n",
        "sns.heatmap(dayHour,cmap='viridis')"
      ]
    },
    {
      "cell_type": "markdown",
      "source": [
        "- Calls are more frequent in daily hours\n",
        "- There are less calls in weekend"
      ],
      "metadata": {
        "id": "gDMgk_LkREdc"
      }
    },
    {
      "cell_type": "code",
      "execution_count": 57,
      "metadata": {
        "id": "cab6edRJPOi6",
        "outputId": "1130ebd9-0c9d-4d2f-9ef8-c2b2179757a5",
        "colab": {
          "base_uri": "https://localhost:8080/",
          "height": 746
        }
      },
      "outputs": [
        {
          "output_type": "execute_result",
          "data": {
            "text/plain": [
              "<seaborn.matrix.ClusterGrid at 0x7fa3360a0790>"
            ]
          },
          "metadata": {},
          "execution_count": 57
        },
        {
          "output_type": "display_data",
          "data": {
            "text/plain": [
              "<Figure size 720x720 with 4 Axes>"
            ],
            "image/png": "[encoded data removed]"
          },
          "metadata": {
            "needs_background": "light"
          }
        }
      ],
      "source": [
        "sns.clustermap(dayHour,cmap='viridis')"
      ]
    },
    {
      "cell_type": "code",
      "execution_count": 58,
      "metadata": {
        "id": "4J53U6pqPOi6",
        "outputId": "530079df-cf76-4e50-8021-eef0ad22c5b3",
        "colab": {
          "base_uri": "https://localhost:8080/",
          "height": 237
        }
      },
      "outputs": [
        {
          "output_type": "execute_result",
          "data": {
            "text/plain": [
              "Month          1     2     3     4     5     6     7     8     12\n",
              "Day of Week                                                      \n",
              "Fri          1970  1581  1525  1958  1730  1649  2045  1310  1065\n",
              "Mon          1727  1964  1535  1598  1779  1617  1692  1511  1257\n",
              "Sat          2291  1441  1266  1734  1444  1388  1695  1099   978\n",
              "Sun          1960  1229  1102  1488  1424  1333  1672  1021   907\n",
              "Thu          1584  1596  1900  1601  1590  2065  1646  1230  1266"
            ],
            "text/html": [
              "\n",
              "  <div id=\"df-ff569b58-0a4a-4153-b87c-d8f03834aa6f\">\n",
              "    <div class=\"colab-df-container\">\n",
              "      <div>\n",
              "<style scoped>\n",
              "    .dataframe tbody tr th:only-of-type {\n",
              "        vertical-align: middle;\n",
              "    }\n",
              "\n",
              "    .dataframe tbody tr th {\n",
              "        vertical-align: top;\n",
              "    }\n",
              "\n",
              "    .dataframe thead th {\n",
              "        text-align: right;\n",
              "    }\n",
              "</style>\n",
              "<table border=\"1\" class=\"dataframe\">\n",
              "  <thead>\n",
              "    <tr style=\"text-align: right;\">\n",
              "      <th>Month</th>\n",
              "      <th>1</th>\n",
              "      <th>2</th>\n",
              "      <th>3</th>\n",
              "      <th>4</th>\n",
              "      <th>5</th>\n",
              "      <th>6</th>\n",
              "      <th>7</th>\n",
              "      <th>8</th>\n",
              "      <th>12</th>\n",
              "    </tr>\n",
              "    <tr>\n",
              "      <th>Day of Week</th>\n",
              "      <th></th>\n",
              "      <th></th>\n",
              "      <th></th>\n",
              "      <th></th>\n",
              "      <th></th>\n",
              "      <th></th>\n",
              "      <th></th>\n",
              "      <th></th>\n",
              "      <th></th>\n",
              "    </tr>\n",
              "  </thead>\n",
              "  <tbody>\n",
              "    <tr>\n",
              "      <th>Fri</th>\n",
              "      <td>1970</td>\n",
              "      <td>1581</td>\n",
              "      <td>1525</td>\n",
              "      <td>1958</td>\n",
              "      <td>1730</td>\n",
              "      <td>1649</td>\n",
              "      <td>2045</td>\n",
              "      <td>1310</td>\n",
              "      <td>1065</td>\n",
              "    </tr>\n",
              "    <tr>\n",
              "      <th>Mon</th>\n",
              "      <td>1727</td>\n",
              "      <td>1964</td>\n",
              "      <td>1535</td>\n",
              "      <td>1598</td>\n",
              "      <td>1779</td>\n",
              "      <td>1617</td>\n",
              "      <td>1692</td>\n",
              "      <td>1511</td>\n",
              "      <td>1257</td>\n",
              "    </tr>\n",
              "    <tr>\n",
              "      <th>Sat</th>\n",
              "      <td>2291</td>\n",
              "      <td>1441</td>\n",
              "      <td>1266</td>\n",
              "      <td>1734</td>\n",
              "      <td>1444</td>\n",
              "      <td>1388</td>\n",
              "      <td>1695</td>\n",
              "      <td>1099</td>\n",
              "      <td>978</td>\n",
              "    </tr>\n",
              "    <tr>\n",
              "      <th>Sun</th>\n",
              "      <td>1960</td>\n",
              "      <td>1229</td>\n",
              "      <td>1102</td>\n",
              "      <td>1488</td>\n",
              "      <td>1424</td>\n",
              "      <td>1333</td>\n",
              "      <td>1672</td>\n",
              "      <td>1021</td>\n",
              "      <td>907</td>\n",
              "    </tr>\n",
              "    <tr>\n",
              "      <th>Thu</th>\n",
              "      <td>1584</td>\n",
              "      <td>1596</td>\n",
              "      <td>1900</td>\n",
              "      <td>1601</td>\n",
              "      <td>1590</td>\n",
              "      <td>2065</td>\n",
              "      <td>1646</td>\n",
              "      <td>1230</td>\n",
              "      <td>1266</td>\n",
              "    </tr>\n",
              "  </tbody>\n",
              "</table>\n",
              "</div>\n",
              "      <button class=\"colab-df-convert\" onclick=\"convertToInteractive('df-ff569b58-0a4a-4153-b87c-d8f03834aa6f')\"\n",
              "              title=\"Convert this dataframe to an interactive table.\"\n",
              "              style=\"display:none;\">\n",
              "        \n",
              "  <svg xmlns=\"http://www.w3.org/2000/svg\" height=\"24px\"viewBox=\"0 0 24 24\"\n",
              "       width=\"24px\">\n",
              "    <path d=\"M0 0h24v24H0V0z\" fill=\"none\"/>\n",
              "    <path d=\"M18.56 5.44l.94 2.06.94-2.06 2.06-.94-2.06-.94-.94-2.06-.94 2.06-2.06.94zm-11 1L8.5 8.5l.94-2.06 2.06-.94-2.06-.94L8.5 2.5l-.94 2.06-2.06.94zm10 10l.94 2.06.94-2.06 2.06-.94-2.06-.94-.94-2.06-.94 2.06-2.06.94z\"/><path d=\"M17.41 7.96l-1.37-1.37c-.4-.4-.92-.59-1.43-.59-.52 0-1.04.2-1.43.59L10.3 9.45l-7.72 7.72c-.78.78-.78 2.05 0 2.83L4 21.41c.39.39.9.59 1.41.59.51 0 1.02-.2 1.41-.59l7.78-7.78 2.81-2.81c.8-.78.8-2.07 0-2.86zM5.41 20L4 18.59l7.72-7.72 1.47 1.35L5.41 20z\"/>\n",
              "  </svg>\n",
              "      </button>\n",
              "      \n",
              "  <style>\n",
              "    .colab-df-container {\n",
              "      display:flex;\n",
              "      flex-wrap:wrap;\n",
              "      gap: 12px;\n",
              "    }\n",
              "\n",
              "    .colab-df-convert {\n",
              "      background-color: #E8F0FE;\n",
              "      border: none;\n",
              "      border-radius: 50%;\n",
              "      cursor: pointer;\n",
              "      display: none;\n",
              "      fill: #1967D2;\n",
              "      height: 32px;\n",
              "      padding: 0 0 0 0;\n",
              "      width: 32px;\n",
              "    }\n",
              "\n",
              "    .colab-df-convert:hover {\n",
              "      background-color: #E2EBFA;\n",
              "      box-shadow: 0px 1px 2px rgba(60, 64, 67, 0.3), 0px 1px 3px 1px rgba(60, 64, 67, 0.15);\n",
              "      fill: #174EA6;\n",
              "    }\n",
              "\n",
              "    [theme=dark] .colab-df-convert {\n",
              "      background-color: #3B4455;\n",
              "      fill: #D2E3FC;\n",
              "    }\n",
              "\n",
              "    [theme=dark] .colab-df-convert:hover {\n",
              "      background-color: #434B5C;\n",
              "      box-shadow: 0px 1px 3px 1px rgba(0, 0, 0, 0.15);\n",
              "      filter: drop-shadow(0px 1px 2px rgba(0, 0, 0, 0.3));\n",
              "      fill: #FFFFFF;\n",
              "    }\n",
              "  </style>\n",
              "\n",
              "      <script>\n",
              "        const buttonEl =\n",
              "          document.querySelector('#df-ff569b58-0a4a-4153-b87c-d8f03834aa6f button.colab-df-convert');\n",
              "        buttonEl.style.display =\n",
              "          google.colab.kernel.accessAllowed ? 'block' : 'none';\n",
              "\n",
              "        async function convertToInteractive(key) {\n",
              "          const element = document.querySelector('#df-ff569b58-0a4a-4153-b87c-d8f03834aa6f');\n",
              "          const dataTable =\n",
              "            await google.colab.kernel.invokeFunction('convertToInteractive',\n",
              "                                                     [key], {});\n",
              "          if (!dataTable) return;\n",
              "\n",
              "          const docLinkHtml = 'Like what you see? Visit the ' +\n",
              "            '<a target=\"_blank\" href=https://colab.research.google.com/notebooks/data_table.ipynb>data table notebook</a>'\n",
              "            + ' to learn more about interactive tables.';\n",
              "          element.innerHTML = '';\n",
              "          dataTable['output_type'] = 'display_data';\n",
              "          await google.colab.output.renderOutput(dataTable, element);\n",
              "          const docLink = document.createElement('div');\n",
              "          docLink.innerHTML = docLinkHtml;\n",
              "          element.appendChild(docLink);\n",
              "        }\n",
              "      </script>\n",
              "    </div>\n",
              "  </div>\n",
              "  "
            ]
          },
          "metadata": {},
          "execution_count": 58
        }
      ],
      "source": [
        "dayMonth = df.groupby(by=['Day of Week','Month']).count()['Reason'].unstack()\n",
        "dayMonth.head()"
      ]
    },
    {
      "cell_type": "code",
      "execution_count": 59,
      "metadata": {
        "id": "ms6PxKz2POi6",
        "outputId": "b0deb679-f33f-42eb-e540-cf355c6a3dec",
        "colab": {
          "base_uri": "https://localhost:8080/",
          "height": 405
        }
      },
      "outputs": [
        {
          "output_type": "execute_result",
          "data": {
            "text/plain": [
              "<matplotlib.axes._subplots.AxesSubplot at 0x7fa335f534f0>"
            ]
          },
          "metadata": {},
          "execution_count": 59
        },
        {
          "output_type": "display_data",
          "data": {
            "text/plain": [
              "<Figure size 864x432 with 2 Axes>"
            ],
            "image/png": "[encoded data removed]"
          },
          "metadata": {
            "needs_background": "light"
          }
        }
      ],
      "source": [
        "plt.figure(figsize=(12,6))\n",
        "sns.heatmap(dayMonth,cmap='viridis')"
      ]
    },
    {
      "cell_type": "code",
      "execution_count": 60,
      "metadata": {
        "id": "TW1gtQaZPOi7",
        "outputId": "08f71e8f-676f-4159-8b03-efc6e9099e50",
        "colab": {
          "base_uri": "https://localhost:8080/",
          "height": 746
        }
      },
      "outputs": [
        {
          "output_type": "execute_result",
          "data": {
            "text/plain": [
              "<seaborn.matrix.ClusterGrid at 0x7fa335ea4a60>"
            ]
          },
          "metadata": {},
          "execution_count": 60
        },
        {
          "output_type": "display_data",
          "data": {
            "text/plain": [
              "<Figure size 720x720 with 4 Axes>"
            ],
            "image/png": "[encoded data removed]"
          },
          "metadata": {
            "needs_background": "light"
          }
        }
      ],
      "source": [
        "sns.clustermap(dayMonth,cmap='viridis')"
      ]
    }
  ],
  "metadata": {
    "kernelspec": {
      "display_name": "Python 3",
      "language": "python",
      "name": "python3"
    },
    "language_info": {
      "codemirror_mode": {
        "name": "ipython",
        "version": 3
      },
      "file_extension": ".py",
      "mimetype": "text/x-python",
      "name": "python",
      "nbconvert_exporter": "python",
      "pygments_lexer": "ipython3",
      "version": "3.5.1"
    },
    "colab": {
      "provenance": [],
      "include_colab_link": true
    }
  },
  "nbformat": 4,
  "nbformat_minor": 0
}